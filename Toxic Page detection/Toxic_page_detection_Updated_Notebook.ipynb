{
  "nbformat": 4,
  "nbformat_minor": 0,
  "metadata": {
    "accelerator": "GPU",
    "colab": {
      "name": "Toxic page detection_Updated_final",
      "provenance": [],
      "collapsed_sections": [],
      "include_colab_link": true
    },
    "kernelspec": {
      "display_name": "Python 3",
      "name": "python3"
    },
    "widgets": {
      "application/vnd.jupyter.widget-state+json": {
        "619ddfeeb1834dd8af04bb74e0c7bdd4": {
          "model_module": "@jupyter-widgets/controls",
          "model_name": "HBoxModel",
          "state": {
            "_dom_classes": [],
            "_model_module": "@jupyter-widgets/controls",
            "_model_module_version": "1.5.0",
            "_model_name": "HBoxModel",
            "_view_count": null,
            "_view_module": "@jupyter-widgets/controls",
            "_view_module_version": "1.5.0",
            "_view_name": "HBoxView",
            "box_style": "",
            "children": [
              "IPY_MODEL_fa26db7cd6794df8a50f06e3eaa2a8dd",
              "IPY_MODEL_11c2c190437243c6bfdfa41bcb0183e9"
            ],
            "layout": "IPY_MODEL_42d6fc1df7df4091a7a7c62e1fe4325d"
          }
        },
        "fa26db7cd6794df8a50f06e3eaa2a8dd": {
          "model_module": "@jupyter-widgets/controls",
          "model_name": "FloatProgressModel",
          "state": {
            "_dom_classes": [],
            "_model_module": "@jupyter-widgets/controls",
            "_model_module_version": "1.5.0",
            "_model_name": "FloatProgressModel",
            "_view_count": null,
            "_view_module": "@jupyter-widgets/controls",
            "_view_module_version": "1.5.0",
            "_view_name": "ProgressView",
            "bar_style": "success",
            "description": "Downloading: 100%",
            "description_tooltip": null,
            "layout": "IPY_MODEL_4fc1f1bd51254b5184530d7d540a1882",
            "max": 995526,
            "min": 0,
            "orientation": "horizontal",
            "style": "IPY_MODEL_442c499eb4db4248b66598edb188d8fc",
            "value": 995526
          }
        },
        "11c2c190437243c6bfdfa41bcb0183e9": {
          "model_module": "@jupyter-widgets/controls",
          "model_name": "HTMLModel",
          "state": {
            "_dom_classes": [],
            "_model_module": "@jupyter-widgets/controls",
            "_model_module_version": "1.5.0",
            "_model_name": "HTMLModel",
            "_view_count": null,
            "_view_module": "@jupyter-widgets/controls",
            "_view_module_version": "1.5.0",
            "_view_name": "HTMLView",
            "description": "",
            "description_tooltip": null,
            "layout": "IPY_MODEL_a2d9f9215b4449bc8692572d61395e54",
            "placeholder": "​",
            "style": "IPY_MODEL_8c8d95b9cdac44e49e25ccff14f3af63",
            "value": " 996k/996k [00:00&lt;00:00, 6.45MB/s]"
          }
        },
        "42d6fc1df7df4091a7a7c62e1fe4325d": {
          "model_module": "@jupyter-widgets/base",
          "model_name": "LayoutModel",
          "state": {
            "_model_module": "@jupyter-widgets/base",
            "_model_module_version": "1.2.0",
            "_model_name": "LayoutModel",
            "_view_count": null,
            "_view_module": "@jupyter-widgets/base",
            "_view_module_version": "1.2.0",
            "_view_name": "LayoutView",
            "align_content": null,
            "align_items": null,
            "align_self": null,
            "border": null,
            "bottom": null,
            "display": null,
            "flex": null,
            "flex_flow": null,
            "grid_area": null,
            "grid_auto_columns": null,
            "grid_auto_flow": null,
            "grid_auto_rows": null,
            "grid_column": null,
            "grid_gap": null,
            "grid_row": null,
            "grid_template_areas": null,
            "grid_template_columns": null,
            "grid_template_rows": null,
            "height": null,
            "justify_content": null,
            "justify_items": null,
            "left": null,
            "margin": null,
            "max_height": null,
            "max_width": null,
            "min_height": null,
            "min_width": null,
            "object_fit": null,
            "object_position": null,
            "order": null,
            "overflow": null,
            "overflow_x": null,
            "overflow_y": null,
            "padding": null,
            "right": null,
            "top": null,
            "visibility": null,
            "width": null
          }
        },
        "4fc1f1bd51254b5184530d7d540a1882": {
          "model_module": "@jupyter-widgets/base",
          "model_name": "LayoutModel",
          "state": {
            "_model_module": "@jupyter-widgets/base",
            "_model_module_version": "1.2.0",
            "_model_name": "LayoutModel",
            "_view_count": null,
            "_view_module": "@jupyter-widgets/base",
            "_view_module_version": "1.2.0",
            "_view_name": "LayoutView",
            "align_content": null,
            "align_items": null,
            "align_self": null,
            "border": null,
            "bottom": null,
            "display": null,
            "flex": null,
            "flex_flow": null,
            "grid_area": null,
            "grid_auto_columns": null,
            "grid_auto_flow": null,
            "grid_auto_rows": null,
            "grid_column": null,
            "grid_gap": null,
            "grid_row": null,
            "grid_template_areas": null,
            "grid_template_columns": null,
            "grid_template_rows": null,
            "height": null,
            "justify_content": null,
            "justify_items": null,
            "left": null,
            "margin": null,
            "max_height": null,
            "max_width": null,
            "min_height": null,
            "min_width": null,
            "object_fit": null,
            "object_position": null,
            "order": null,
            "overflow": null,
            "overflow_x": null,
            "overflow_y": null,
            "padding": null,
            "right": null,
            "top": null,
            "visibility": null,
            "width": null
          }
        },
        "442c499eb4db4248b66598edb188d8fc": {
          "model_module": "@jupyter-widgets/controls",
          "model_name": "ProgressStyleModel",
          "state": {
            "_model_module": "@jupyter-widgets/controls",
            "_model_module_version": "1.5.0",
            "_model_name": "ProgressStyleModel",
            "_view_count": null,
            "_view_module": "@jupyter-widgets/base",
            "_view_module_version": "1.2.0",
            "_view_name": "StyleView",
            "bar_color": null,
            "description_width": "initial"
          }
        },
        "a2d9f9215b4449bc8692572d61395e54": {
          "model_module": "@jupyter-widgets/base",
          "model_name": "LayoutModel",
          "state": {
            "_model_module": "@jupyter-widgets/base",
            "_model_module_version": "1.2.0",
            "_model_name": "LayoutModel",
            "_view_count": null,
            "_view_module": "@jupyter-widgets/base",
            "_view_module_version": "1.2.0",
            "_view_name": "LayoutView",
            "align_content": null,
            "align_items": null,
            "align_self": null,
            "border": null,
            "bottom": null,
            "display": null,
            "flex": null,
            "flex_flow": null,
            "grid_area": null,
            "grid_auto_columns": null,
            "grid_auto_flow": null,
            "grid_auto_rows": null,
            "grid_column": null,
            "grid_gap": null,
            "grid_row": null,
            "grid_template_areas": null,
            "grid_template_columns": null,
            "grid_template_rows": null,
            "height": null,
            "justify_content": null,
            "justify_items": null,
            "left": null,
            "margin": null,
            "max_height": null,
            "max_width": null,
            "min_height": null,
            "min_width": null,
            "object_fit": null,
            "object_position": null,
            "order": null,
            "overflow": null,
            "overflow_x": null,
            "overflow_y": null,
            "padding": null,
            "right": null,
            "top": null,
            "visibility": null,
            "width": null
          }
        },
        "8c8d95b9cdac44e49e25ccff14f3af63": {
          "model_module": "@jupyter-widgets/controls",
          "model_name": "DescriptionStyleModel",
          "state": {
            "_model_module": "@jupyter-widgets/controls",
            "_model_module_version": "1.5.0",
            "_model_name": "DescriptionStyleModel",
            "_view_count": null,
            "_view_module": "@jupyter-widgets/base",
            "_view_module_version": "1.2.0",
            "_view_name": "StyleView",
            "description_width": ""
          }
        },
        "a6d54abd0e0e46669604431903aff85b": {
          "model_module": "@jupyter-widgets/controls",
          "model_name": "HBoxModel",
          "state": {
            "_dom_classes": [],
            "_model_module": "@jupyter-widgets/controls",
            "_model_module_version": "1.5.0",
            "_model_name": "HBoxModel",
            "_view_count": null,
            "_view_module": "@jupyter-widgets/controls",
            "_view_module_version": "1.5.0",
            "_view_name": "HBoxView",
            "box_style": "",
            "children": [
              "IPY_MODEL_e2ffb55c0c2644fda720bc3891ec3b23",
              "IPY_MODEL_b0628e5f8df842a4af1085b2595bc0c9"
            ],
            "layout": "IPY_MODEL_83122fe79f3844609a190d83e6eadfa9"
          }
        },
        "e2ffb55c0c2644fda720bc3891ec3b23": {
          "model_module": "@jupyter-widgets/controls",
          "model_name": "FloatProgressModel",
          "state": {
            "_dom_classes": [],
            "_model_module": "@jupyter-widgets/controls",
            "_model_module_version": "1.5.0",
            "_model_name": "FloatProgressModel",
            "_view_count": null,
            "_view_module": "@jupyter-widgets/controls",
            "_view_module_version": "1.5.0",
            "_view_name": "ProgressView",
            "bar_style": "success",
            "description": "Downloading: 100%",
            "description_tooltip": null,
            "layout": "IPY_MODEL_b767022cd0134359aa9da64e766deefe",
            "max": 466,
            "min": 0,
            "orientation": "horizontal",
            "style": "IPY_MODEL_b3047e1291fa4c338eb36657ef83f75e",
            "value": 466
          }
        },
        "b0628e5f8df842a4af1085b2595bc0c9": {
          "model_module": "@jupyter-widgets/controls",
          "model_name": "HTMLModel",
          "state": {
            "_dom_classes": [],
            "_model_module": "@jupyter-widgets/controls",
            "_model_module_version": "1.5.0",
            "_model_name": "HTMLModel",
            "_view_count": null,
            "_view_module": "@jupyter-widgets/controls",
            "_view_module_version": "1.5.0",
            "_view_name": "HTMLView",
            "description": "",
            "description_tooltip": null,
            "layout": "IPY_MODEL_cdb42c3863eb40d680927c2abe511f9c",
            "placeholder": "​",
            "style": "IPY_MODEL_a0f959baf1394cb5af74f0ea63c90d4d",
            "value": " 466/466 [00:12&lt;00:00, 38.6B/s]"
          }
        },
        "83122fe79f3844609a190d83e6eadfa9": {
          "model_module": "@jupyter-widgets/base",
          "model_name": "LayoutModel",
          "state": {
            "_model_module": "@jupyter-widgets/base",
            "_model_module_version": "1.2.0",
            "_model_name": "LayoutModel",
            "_view_count": null,
            "_view_module": "@jupyter-widgets/base",
            "_view_module_version": "1.2.0",
            "_view_name": "LayoutView",
            "align_content": null,
            "align_items": null,
            "align_self": null,
            "border": null,
            "bottom": null,
            "display": null,
            "flex": null,
            "flex_flow": null,
            "grid_area": null,
            "grid_auto_columns": null,
            "grid_auto_flow": null,
            "grid_auto_rows": null,
            "grid_column": null,
            "grid_gap": null,
            "grid_row": null,
            "grid_template_areas": null,
            "grid_template_columns": null,
            "grid_template_rows": null,
            "height": null,
            "justify_content": null,
            "justify_items": null,
            "left": null,
            "margin": null,
            "max_height": null,
            "max_width": null,
            "min_height": null,
            "min_width": null,
            "object_fit": null,
            "object_position": null,
            "order": null,
            "overflow": null,
            "overflow_x": null,
            "overflow_y": null,
            "padding": null,
            "right": null,
            "top": null,
            "visibility": null,
            "width": null
          }
        },
        "b767022cd0134359aa9da64e766deefe": {
          "model_module": "@jupyter-widgets/base",
          "model_name": "LayoutModel",
          "state": {
            "_model_module": "@jupyter-widgets/base",
            "_model_module_version": "1.2.0",
            "_model_name": "LayoutModel",
            "_view_count": null,
            "_view_module": "@jupyter-widgets/base",
            "_view_module_version": "1.2.0",
            "_view_name": "LayoutView",
            "align_content": null,
            "align_items": null,
            "align_self": null,
            "border": null,
            "bottom": null,
            "display": null,
            "flex": null,
            "flex_flow": null,
            "grid_area": null,
            "grid_auto_columns": null,
            "grid_auto_flow": null,
            "grid_auto_rows": null,
            "grid_column": null,
            "grid_gap": null,
            "grid_row": null,
            "grid_template_areas": null,
            "grid_template_columns": null,
            "grid_template_rows": null,
            "height": null,
            "justify_content": null,
            "justify_items": null,
            "left": null,
            "margin": null,
            "max_height": null,
            "max_width": null,
            "min_height": null,
            "min_width": null,
            "object_fit": null,
            "object_position": null,
            "order": null,
            "overflow": null,
            "overflow_x": null,
            "overflow_y": null,
            "padding": null,
            "right": null,
            "top": null,
            "visibility": null,
            "width": null
          }
        },
        "b3047e1291fa4c338eb36657ef83f75e": {
          "model_module": "@jupyter-widgets/controls",
          "model_name": "ProgressStyleModel",
          "state": {
            "_model_module": "@jupyter-widgets/controls",
            "_model_module_version": "1.5.0",
            "_model_name": "ProgressStyleModel",
            "_view_count": null,
            "_view_module": "@jupyter-widgets/base",
            "_view_module_version": "1.2.0",
            "_view_name": "StyleView",
            "bar_color": null,
            "description_width": "initial"
          }
        },
        "cdb42c3863eb40d680927c2abe511f9c": {
          "model_module": "@jupyter-widgets/base",
          "model_name": "LayoutModel",
          "state": {
            "_model_module": "@jupyter-widgets/base",
            "_model_module_version": "1.2.0",
            "_model_name": "LayoutModel",
            "_view_count": null,
            "_view_module": "@jupyter-widgets/base",
            "_view_module_version": "1.2.0",
            "_view_name": "LayoutView",
            "align_content": null,
            "align_items": null,
            "align_self": null,
            "border": null,
            "bottom": null,
            "display": null,
            "flex": null,
            "flex_flow": null,
            "grid_area": null,
            "grid_auto_columns": null,
            "grid_auto_flow": null,
            "grid_auto_rows": null,
            "grid_column": null,
            "grid_gap": null,
            "grid_row": null,
            "grid_template_areas": null,
            "grid_template_columns": null,
            "grid_template_rows": null,
            "height": null,
            "justify_content": null,
            "justify_items": null,
            "left": null,
            "margin": null,
            "max_height": null,
            "max_width": null,
            "min_height": null,
            "min_width": null,
            "object_fit": null,
            "object_position": null,
            "order": null,
            "overflow": null,
            "overflow_x": null,
            "overflow_y": null,
            "padding": null,
            "right": null,
            "top": null,
            "visibility": null,
            "width": null
          }
        },
        "a0f959baf1394cb5af74f0ea63c90d4d": {
          "model_module": "@jupyter-widgets/controls",
          "model_name": "DescriptionStyleModel",
          "state": {
            "_model_module": "@jupyter-widgets/controls",
            "_model_module_version": "1.5.0",
            "_model_name": "DescriptionStyleModel",
            "_view_count": null,
            "_view_module": "@jupyter-widgets/base",
            "_view_module_version": "1.2.0",
            "_view_name": "StyleView",
            "description_width": ""
          }
        },
        "e7a14c7837f0448fa126435845b652bb": {
          "model_module": "@jupyter-widgets/controls",
          "model_name": "HBoxModel",
          "state": {
            "_dom_classes": [],
            "_model_module": "@jupyter-widgets/controls",
            "_model_module_version": "1.5.0",
            "_model_name": "HBoxModel",
            "_view_count": null,
            "_view_module": "@jupyter-widgets/controls",
            "_view_module_version": "1.5.0",
            "_view_name": "HBoxView",
            "box_style": "",
            "children": [
              "IPY_MODEL_ffb60f44609849f2bcf29f064ef3bcfc",
              "IPY_MODEL_648a32bbd9c046ebbfda3b57e591e791"
            ],
            "layout": "IPY_MODEL_11d53c8c0abd4dc48e61c536e8507229"
          }
        },
        "ffb60f44609849f2bcf29f064ef3bcfc": {
          "model_module": "@jupyter-widgets/controls",
          "model_name": "FloatProgressModel",
          "state": {
            "_dom_classes": [],
            "_model_module": "@jupyter-widgets/controls",
            "_model_module_version": "1.5.0",
            "_model_name": "FloatProgressModel",
            "_view_count": null,
            "_view_module": "@jupyter-widgets/controls",
            "_view_module_version": "1.5.0",
            "_view_name": "ProgressView",
            "bar_style": "success",
            "description": "Downloading: 100%",
            "description_tooltip": null,
            "layout": "IPY_MODEL_335e5e8ff5c245a299e2efe07ac0c62c",
            "max": 910749124,
            "min": 0,
            "orientation": "horizontal",
            "style": "IPY_MODEL_f58690f7431e447fab302da88f410914",
            "value": 910749124
          }
        },
        "648a32bbd9c046ebbfda3b57e591e791": {
          "model_module": "@jupyter-widgets/controls",
          "model_name": "HTMLModel",
          "state": {
            "_dom_classes": [],
            "_model_module": "@jupyter-widgets/controls",
            "_model_module_version": "1.5.0",
            "_model_name": "HTMLModel",
            "_view_count": null,
            "_view_module": "@jupyter-widgets/controls",
            "_view_module_version": "1.5.0",
            "_view_name": "HTMLView",
            "description": "",
            "description_tooltip": null,
            "layout": "IPY_MODEL_0c597fad663c4c9aaf5f3001ac7d906b",
            "placeholder": "​",
            "style": "IPY_MODEL_13467353c9e5484185f170b8522377f7",
            "value": " 911M/911M [00:11&lt;00:00, 77.6MB/s]"
          }
        },
        "11d53c8c0abd4dc48e61c536e8507229": {
          "model_module": "@jupyter-widgets/base",
          "model_name": "LayoutModel",
          "state": {
            "_model_module": "@jupyter-widgets/base",
            "_model_module_version": "1.2.0",
            "_model_name": "LayoutModel",
            "_view_count": null,
            "_view_module": "@jupyter-widgets/base",
            "_view_module_version": "1.2.0",
            "_view_name": "LayoutView",
            "align_content": null,
            "align_items": null,
            "align_self": null,
            "border": null,
            "bottom": null,
            "display": null,
            "flex": null,
            "flex_flow": null,
            "grid_area": null,
            "grid_auto_columns": null,
            "grid_auto_flow": null,
            "grid_auto_rows": null,
            "grid_column": null,
            "grid_gap": null,
            "grid_row": null,
            "grid_template_areas": null,
            "grid_template_columns": null,
            "grid_template_rows": null,
            "height": null,
            "justify_content": null,
            "justify_items": null,
            "left": null,
            "margin": null,
            "max_height": null,
            "max_width": null,
            "min_height": null,
            "min_width": null,
            "object_fit": null,
            "object_position": null,
            "order": null,
            "overflow": null,
            "overflow_x": null,
            "overflow_y": null,
            "padding": null,
            "right": null,
            "top": null,
            "visibility": null,
            "width": null
          }
        },
        "335e5e8ff5c245a299e2efe07ac0c62c": {
          "model_module": "@jupyter-widgets/base",
          "model_name": "LayoutModel",
          "state": {
            "_model_module": "@jupyter-widgets/base",
            "_model_module_version": "1.2.0",
            "_model_name": "LayoutModel",
            "_view_count": null,
            "_view_module": "@jupyter-widgets/base",
            "_view_module_version": "1.2.0",
            "_view_name": "LayoutView",
            "align_content": null,
            "align_items": null,
            "align_self": null,
            "border": null,
            "bottom": null,
            "display": null,
            "flex": null,
            "flex_flow": null,
            "grid_area": null,
            "grid_auto_columns": null,
            "grid_auto_flow": null,
            "grid_auto_rows": null,
            "grid_column": null,
            "grid_gap": null,
            "grid_row": null,
            "grid_template_areas": null,
            "grid_template_columns": null,
            "grid_template_rows": null,
            "height": null,
            "justify_content": null,
            "justify_items": null,
            "left": null,
            "margin": null,
            "max_height": null,
            "max_width": null,
            "min_height": null,
            "min_width": null,
            "object_fit": null,
            "object_position": null,
            "order": null,
            "overflow": null,
            "overflow_x": null,
            "overflow_y": null,
            "padding": null,
            "right": null,
            "top": null,
            "visibility": null,
            "width": null
          }
        },
        "f58690f7431e447fab302da88f410914": {
          "model_module": "@jupyter-widgets/controls",
          "model_name": "ProgressStyleModel",
          "state": {
            "_model_module": "@jupyter-widgets/controls",
            "_model_module_version": "1.5.0",
            "_model_name": "ProgressStyleModel",
            "_view_count": null,
            "_view_module": "@jupyter-widgets/base",
            "_view_module_version": "1.2.0",
            "_view_name": "StyleView",
            "bar_color": null,
            "description_width": "initial"
          }
        },
        "0c597fad663c4c9aaf5f3001ac7d906b": {
          "model_module": "@jupyter-widgets/base",
          "model_name": "LayoutModel",
          "state": {
            "_model_module": "@jupyter-widgets/base",
            "_model_module_version": "1.2.0",
            "_model_name": "LayoutModel",
            "_view_count": null,
            "_view_module": "@jupyter-widgets/base",
            "_view_module_version": "1.2.0",
            "_view_name": "LayoutView",
            "align_content": null,
            "align_items": null,
            "align_self": null,
            "border": null,
            "bottom": null,
            "display": null,
            "flex": null,
            "flex_flow": null,
            "grid_area": null,
            "grid_auto_columns": null,
            "grid_auto_flow": null,
            "grid_auto_rows": null,
            "grid_column": null,
            "grid_gap": null,
            "grid_row": null,
            "grid_template_areas": null,
            "grid_template_columns": null,
            "grid_template_rows": null,
            "height": null,
            "justify_content": null,
            "justify_items": null,
            "left": null,
            "margin": null,
            "max_height": null,
            "max_width": null,
            "min_height": null,
            "min_width": null,
            "object_fit": null,
            "object_position": null,
            "order": null,
            "overflow": null,
            "overflow_x": null,
            "overflow_y": null,
            "padding": null,
            "right": null,
            "top": null,
            "visibility": null,
            "width": null
          }
        },
        "13467353c9e5484185f170b8522377f7": {
          "model_module": "@jupyter-widgets/controls",
          "model_name": "DescriptionStyleModel",
          "state": {
            "_model_module": "@jupyter-widgets/controls",
            "_model_module_version": "1.5.0",
            "_model_name": "DescriptionStyleModel",
            "_view_count": null,
            "_view_module": "@jupyter-widgets/base",
            "_view_module_version": "1.2.0",
            "_view_name": "StyleView",
            "description_width": ""
          }
        }
      }
    }
  },
  "cells": [
    {
      "cell_type": "markdown",
      "metadata": {
        "id": "view-in-github",
        "colab_type": "text"
      },
      "source": [
        "<a href=\"https://colab.research.google.com/github/zyberg2091/e-safety-for-youths/blob/master/Toxic%20Page%20detection/Toxic_page_detection_Updated_Notebook.ipynb\" target=\"_parent\"><img src=\"https://colab.research.google.com/assets/colab-badge.svg\" alt=\"Open In Colab\"/></a>"
      ]
    },
    {
      "cell_type": "code",
      "metadata": {
        "id": "c-BHS2G2jFME"
      },
      "source": [
        "import tensorflow as tf\n",
        "import numpy as np\n",
        "import pandas as pd\n",
        "\n",
        "\n",
        "from tensorflow.keras.layers import Input,Dense\n",
        "from tensorflow.keras.preprocessing.sequence import pad_sequences"
      ],
      "execution_count": null,
      "outputs": []
    },
    {
      "cell_type": "code",
      "metadata": {
        "colab": {
          "base_uri": "https://localhost:8080/"
        },
        "id": "SsEjmk-iLMsM",
        "outputId": "f94b14cf-5acc-47ea-9c84-d4b2a9d5d1c3"
      },
      "source": [
        "from google.colab import drive\n",
        "drive.mount('/content/drive')"
      ],
      "execution_count": null,
      "outputs": [
        {
          "output_type": "stream",
          "text": [
            "Mounted at /content/drive\n"
          ],
          "name": "stdout"
        }
      ]
    },
    {
      "cell_type": "code",
      "metadata": {
        "colab": {
          "base_uri": "https://localhost:8080/",
          "height": 35
        },
        "id": "2y6EHhRgm2HW",
        "outputId": "a9c6c744-ebf1-41b4-f537-2e2c9003ef94"
      },
      "source": [
        "import tensorflow as tf\n",
        "tf.test.gpu_device_name()"
      ],
      "execution_count": null,
      "outputs": [
        {
          "output_type": "execute_result",
          "data": {
            "application/vnd.google.colaboratory.intrinsic+json": {
              "type": "string"
            },
            "text/plain": [
              "'/device:GPU:0'"
            ]
          },
          "metadata": {
            "tags": []
          },
          "execution_count": 3
        }
      ]
    },
    {
      "cell_type": "code",
      "metadata": {
        "colab": {
          "base_uri": "https://localhost:8080/",
          "height": 195
        },
        "id": "yAjU6grUlJ5x",
        "outputId": "b22e60b0-1c5f-443d-a217-5323b179605c"
      },
      "source": [
        "df=pd.read_csv('/content/drive/MyDrive/Data/Multilingual Toxicity page detection/jigsaw-toxic-comment-train.csv').sample(frac=1)\n",
        "df.head()"
      ],
      "execution_count": null,
      "outputs": [
        {
          "output_type": "execute_result",
          "data": {
            "text/html": [
              "<div>\n",
              "<style scoped>\n",
              "    .dataframe tbody tr th:only-of-type {\n",
              "        vertical-align: middle;\n",
              "    }\n",
              "\n",
              "    .dataframe tbody tr th {\n",
              "        vertical-align: top;\n",
              "    }\n",
              "\n",
              "    .dataframe thead th {\n",
              "        text-align: right;\n",
              "    }\n",
              "</style>\n",
              "<table border=\"1\" class=\"dataframe\">\n",
              "  <thead>\n",
              "    <tr style=\"text-align: right;\">\n",
              "      <th></th>\n",
              "      <th>id</th>\n",
              "      <th>comment_text</th>\n",
              "      <th>toxic</th>\n",
              "      <th>severe_toxic</th>\n",
              "      <th>obscene</th>\n",
              "      <th>threat</th>\n",
              "      <th>insult</th>\n",
              "      <th>identity_hate</th>\n",
              "    </tr>\n",
              "  </thead>\n",
              "  <tbody>\n",
              "    <tr>\n",
              "      <th>25970</th>\n",
              "      <td>44c6f7062a1746f1</td>\n",
              "      <td>\":::::::::::Edit warring, POV pushing, and not...</td>\n",
              "      <td>0</td>\n",
              "      <td>0</td>\n",
              "      <td>0</td>\n",
              "      <td>0</td>\n",
              "      <td>0</td>\n",
              "      <td>0</td>\n",
              "    </tr>\n",
              "    <tr>\n",
              "      <th>125290</th>\n",
              "      <td>9e283e3247296b5d</td>\n",
              "      <td>\"\\n\\nFair use rationale for File:Sky tigers.JP...</td>\n",
              "      <td>0</td>\n",
              "      <td>0</td>\n",
              "      <td>0</td>\n",
              "      <td>0</td>\n",
              "      <td>0</td>\n",
              "      <td>0</td>\n",
              "    </tr>\n",
              "    <tr>\n",
              "      <th>52271</th>\n",
              "      <td>8be3050edb23f480</td>\n",
              "      <td>Re:Mere Rubbish ==\\nI also think it is mere ru...</td>\n",
              "      <td>0</td>\n",
              "      <td>0</td>\n",
              "      <td>1</td>\n",
              "      <td>0</td>\n",
              "      <td>0</td>\n",
              "      <td>0</td>\n",
              "    </tr>\n",
              "    <tr>\n",
              "      <th>211553</th>\n",
              "      <td>cf661cd2da4c5d7e</td>\n",
              "      <td>\" \\n : A couple of comments. The information i...</td>\n",
              "      <td>0</td>\n",
              "      <td>0</td>\n",
              "      <td>0</td>\n",
              "      <td>0</td>\n",
              "      <td>0</td>\n",
              "      <td>0</td>\n",
              "    </tr>\n",
              "    <tr>\n",
              "      <th>113387</th>\n",
              "      <td>5e6729d799b52836</td>\n",
              "      <td>The article Brendan o shea has been speedily d...</td>\n",
              "      <td>0</td>\n",
              "      <td>0</td>\n",
              "      <td>0</td>\n",
              "      <td>0</td>\n",
              "      <td>0</td>\n",
              "      <td>0</td>\n",
              "    </tr>\n",
              "  </tbody>\n",
              "</table>\n",
              "</div>"
            ],
            "text/plain": [
              "                      id  ... identity_hate\n",
              "25970   44c6f7062a1746f1  ...             0\n",
              "125290  9e283e3247296b5d  ...             0\n",
              "52271   8be3050edb23f480  ...             0\n",
              "211553  cf661cd2da4c5d7e  ...             0\n",
              "113387  5e6729d799b52836  ...             0\n",
              "\n",
              "[5 rows x 8 columns]"
            ]
          },
          "metadata": {
            "tags": []
          },
          "execution_count": 4
        }
      ]
    },
    {
      "cell_type": "code",
      "metadata": {
        "colab": {
          "base_uri": "https://localhost:8080/"
        },
        "id": "BVTIP5Wq28He",
        "outputId": "944950af-2ab4-44b2-932d-5283129b7d58"
      },
      "source": [
        "df[df['threat']==1]['comment_text'].head(20)"
      ],
      "execution_count": null,
      "outputs": [
        {
          "output_type": "execute_result",
          "data": {
            "text/plain": [
              "58006     If you think SOAD is nu-metal.... \\n\\nYou are ...\n",
              "147426    FUCK U CAMEROON\\n\\nPROTECING ILLEGAL EDITS BY ...\n",
              "86427     I am going to shove a pineapple up your ass \\n...\n",
              "154452       \"\\n\\n DIE! \\n\\nDie you piece of shit.  chat  \"\n",
              "77139     Eat shit you fucking arse rapping jew fucking ...\n",
              "56561     Our warning to you ,Weare  not afraid of you b...\n",
              "191226    I will kill you youfucken penis. YOU WILL DIE ...\n",
              "107881    IM GOING TO KILL YOU ALL!!!!!!!!!!!!!!!!!\\nI'm...\n",
              "802       Fuck you, Smith. Please have me notified when ...\n",
              "199830    == I'll pop a Glock in your mouth and make a b...\n",
              "165613    Punched in the Head \\n I am blade, daywalker, ...\n",
              "182948    Unfortunately, he's right. But if I ever see t...\n",
              "32016     Do not ever send me a message again i will hun...\n",
              "32098     Fuck All Asyriac Nation \\n\\nQamishli belong to...\n",
              "197025    ::It's that kind of thing that makes people wa...\n",
              "113946    Napoleon Factor \\n\\nThis movie is like Napoleo...\n",
              "101600                       -good i hope you die inshallah\n",
              "177060    DUDE THE HELL bronys need to be extinguished t...\n",
              "55925     fuck all admins that are on wikipedia why don'...\n",
              "180631                 YOU BASTARD I HOPE YOU DIE IN A FIRE\n",
              "Name: comment_text, dtype: object"
            ]
          },
          "metadata": {
            "tags": []
          },
          "execution_count": 5
        }
      ]
    },
    {
      "cell_type": "code",
      "metadata": {
        "colab": {
          "base_uri": "https://localhost:8080/"
        },
        "id": "jTYp2BvR37gw",
        "outputId": "2bf88ba7-74d0-4891-8817-a97048fac96e"
      },
      "source": [
        "df[df['identity_hate']==1]['comment_text'].head(20)"
      ],
      "execution_count": null,
      "outputs": [
        {
          "output_type": "execute_result",
          "data": {
            "text/plain": [
              "94473     These Iranian bastards are at it again. Not on...\n",
              "209396    GILLIAM IS A FAT GAY WIKIPEDOGILLIAM IS A FAT ...\n",
              "167152    == sarah palin is a fucking bitch == \\n\\n this...\n",
              "115011                    i hate you u stupid little midget\n",
              "77139     Eat shit you fucking arse rapping jew fucking ...\n",
              "37059                        your a fag \\n\\nfuck you nigger\n",
              "11765     FAKE BLOCKING \\n\\nEARLIER THAT BLOCK WAS FAKE ...\n",
              "32911     the RepulicanSodomite has responded!!! praise ...\n",
              "157243    You stupid nigger \\n\\nYou stupid nigger You st...\n",
              "83040                    Please swallow a penis, homosexual\n",
              "138002    Dear Yandman \\n\\nFuck you, do not censor me, c...\n",
              "195219    are dirty little cockmunches that need to get ...\n",
              "105394    JP GORDON IS A JEW LOVING KIKE FAGGOT LOSER. W...\n",
              "216073    is fucking bullshit nigga...and i think your g...\n",
              "32098     Fuck All Asyriac Nation \\n\\nQamishli belong to...\n",
              "221171            Fuck off you nerd, go watch some gay porn\n",
              "163150    You idiots! Armenians are angel they come down...\n",
              "207858    eat a bag of dicks faggot. I can't wait till A...\n",
              "88891                     suck my dick irish guy you faggot\n",
              "111542    FINE \\n\\nCUNT FUCK FAGGOT JIZZ BITCH CUNT WHOR...\n",
              "Name: comment_text, dtype: object"
            ]
          },
          "metadata": {
            "tags": []
          },
          "execution_count": 6
        }
      ]
    },
    {
      "cell_type": "code",
      "metadata": {
        "colab": {
          "base_uri": "https://localhost:8080/"
        },
        "id": "DC3lanT_4NeO",
        "outputId": "b0a47088-da03-40ba-d060-0a7ad85f4b56"
      },
      "source": [
        "df[df['obscene']==1]['comment_text'].head(20)"
      ],
      "execution_count": null,
      "outputs": [
        {
          "output_type": "execute_result",
          "data": {
            "text/plain": [
              "52271     Re:Mere Rubbish ==\\nI also think it is mere ru...\n",
              "40104     THEN GET RID OF THE STUPID FUCKING BRICK COUNT...\n",
              "166547    escuchar tu voz y me sonroje al oir tu te quie...\n",
              "21397     Of course it's also possible that you are, in ...\n",
              "175377    == You Stink! == \\n\\n Have you ever heard of a...\n",
              "107653                   go fuck yourself XD 95.114.245.254\n",
              "94473     These Iranian bastards are at it again. Not on...\n",
              "196114    ==No it isn't== \\n Fuck this I've just realise...\n",
              "58006     If you think SOAD is nu-metal.... \\n\\nYou are ...\n",
              "157679    fuck you! \\n\\nfuck you! YOU ARE UNCIVIL TO CON...\n",
              "162143    On the subject of Labour at the time, see also...\n",
              "36178     Babu.. If u don't know then please keep aside ...\n",
              "130838    Indeed, which only confirms the old adage A Mi...\n",
              "73584     \"\\nFRANKS A DUMB CUNTFRANKS A DUMB CUNTFRANKS ...\n",
              "34512                             go fuck your self asshole\n",
              "96608     == Hey fuck you you cocksucker \\n\\nI was talki...\n",
              "28121                          It was a lie, a fucking lie.\n",
              "3430      Al Arbour  \\n\\nHey Fucktard. Al Arbour died on...\n",
              "67451     Yeah, but being a cunt is, as you've just demo...\n",
              "209396    GILLIAM IS A FAT GAY WIKIPEDOGILLIAM IS A FAT ...\n",
              "Name: comment_text, dtype: object"
            ]
          },
          "metadata": {
            "tags": []
          },
          "execution_count": 7
        }
      ]
    },
    {
      "cell_type": "code",
      "metadata": {
        "colab": {
          "base_uri": "https://localhost:8080/"
        },
        "id": "fuRtB9CpGsZh",
        "outputId": "04c24a48-9658-41c0-ea69-27b2ab405543"
      },
      "source": [
        "df[df['insult']==1]['comment_text'].head(20)"
      ],
      "execution_count": null,
      "outputs": [
        {
          "output_type": "execute_result",
          "data": {
            "text/plain": [
              "40104     THEN GET RID OF THE STUPID FUCKING BRICK COUNT...\n",
              "21397     Of course it's also possible that you are, in ...\n",
              "175377    == You Stink! == \\n\\n Have you ever heard of a...\n",
              "107653                   go fuck yourself XD 95.114.245.254\n",
              "94473     These Iranian bastards are at it again. Not on...\n",
              "58006     If you think SOAD is nu-metal.... \\n\\nYou are ...\n",
              "157679    fuck you! \\n\\nfuck you! YOU ARE UNCIVIL TO CON...\n",
              "162143    On the subject of Labour at the time, see also...\n",
              "73584     \"\\nFRANKS A DUMB CUNTFRANKS A DUMB CUNTFRANKS ...\n",
              "34512                             go fuck your self asshole\n",
              "96608     == Hey fuck you you cocksucker \\n\\nI was talki...\n",
              "3430      Al Arbour  \\n\\nHey Fucktard. Al Arbour died on...\n",
              "67451     Yeah, but being a cunt is, as you've just demo...\n",
              "209396    GILLIAM IS A FAT GAY WIKIPEDOGILLIAM IS A FAT ...\n",
              "167152    == sarah palin is a fucking bitch == \\n\\n this...\n",
              "179661    fuck you,  fuck you,  fuck you,  fuck you,  fu...\n",
              "147426    FUCK U CAMEROON\\n\\nPROTECING ILLEGAL EDITS BY ...\n",
              "6658      Fuck you and your cluelessbot you filthy roody...\n",
              "206524    Jeff can go fuck himself - oh no he can't, he'...\n",
              "166694    Unblock me you lying bastards here on wiki, na...\n",
              "Name: comment_text, dtype: object"
            ]
          },
          "metadata": {
            "tags": []
          },
          "execution_count": 8
        }
      ]
    },
    {
      "cell_type": "code",
      "metadata": {
        "colab": {
          "base_uri": "https://localhost:8080/"
        },
        "id": "_U8MOGQ2Gz95",
        "outputId": "29ce483e-66cc-4ea2-9f35-85e951087c4b"
      },
      "source": [
        "df[df['toxic']==1]['comment_text'].head(20)"
      ],
      "execution_count": null,
      "outputs": [
        {
          "output_type": "execute_result",
          "data": {
            "text/plain": [
              "40104     THEN GET RID OF THE STUPID FUCKING BRICK COUNT...\n",
              "220747                Hillary Clinton Is Really A Lesibian!\n",
              "21397     Of course it's also possible that you are, in ...\n",
              "175377    == You Stink! == \\n\\n Have you ever heard of a...\n",
              "107653                   go fuck yourself XD 95.114.245.254\n",
              "94473     These Iranian bastards are at it again. Not on...\n",
              "196114    ==No it isn't== \\n Fuck this I've just realise...\n",
              "106938    STOP! \\n\\nI said stop leaving commentston my t...\n",
              "58006     If you think SOAD is nu-metal.... \\n\\nYou are ...\n",
              "157679    fuck you! \\n\\nfuck you! YOU ARE UNCIVIL TO CON...\n",
              "162143    On the subject of Labour at the time, see also...\n",
              "36178     Babu.. If u don't know then please keep aside ...\n",
              "130838    Indeed, which only confirms the old adage A Mi...\n",
              "73584     \"\\nFRANKS A DUMB CUNTFRANKS A DUMB CUNTFRANKS ...\n",
              "34512                             go fuck your self asshole\n",
              "96608     == Hey fuck you you cocksucker \\n\\nI was talki...\n",
              "28121                          It was a lie, a fucking lie.\n",
              "3430      Al Arbour  \\n\\nHey Fucktard. Al Arbour died on...\n",
              "67451     Yeah, but being a cunt is, as you've just demo...\n",
              "209396    GILLIAM IS A FAT GAY WIKIPEDOGILLIAM IS A FAT ...\n",
              "Name: comment_text, dtype: object"
            ]
          },
          "metadata": {
            "tags": []
          },
          "execution_count": 9
        }
      ]
    },
    {
      "cell_type": "code",
      "metadata": {
        "colab": {
          "base_uri": "https://localhost:8080/"
        },
        "id": "MIQW6VMCG2yS",
        "outputId": "7e8f2832-801c-4201-94ec-2f9f9853e766"
      },
      "source": [
        "df[df['severe_toxic']==1]['comment_text'].head(20)"
      ],
      "execution_count": null,
      "outputs": [
        {
          "output_type": "execute_result",
          "data": {
            "text/plain": [
              "157679    fuck you! \\n\\nfuck you! YOU ARE UNCIVIL TO CON...\n",
              "167152    == sarah palin is a fucking bitch == \\n\\n this...\n",
              "146863    fuck you \\n\\nFUCK YOU MOTHERFUCKER!!!! GO DIE ...\n",
              "77139     Eat shit you fucking arse rapping jew fucking ...\n",
              "37059                        your a fag \\n\\nfuck you nigger\n",
              "87260     Go fuck yourself and stop contacting me.  I ne...\n",
              "17813         Ill photo shop a dick in his illuminati mouth\n",
              "79853     Reply \\n\\nYOU CAN'T FUCKIN BLOCK ME!\\n\\nKISS M...\n",
              "31232     \"\\n\\nYou are too forward; you came onto me too...\n",
              "107881    IM GOING TO KILL YOU ALL!!!!!!!!!!!!!!!!!\\nI'm...\n",
              "157243    You stupid nigger \\n\\nYou stupid nigger You st...\n",
              "129964                          == \\nFUCK YOU DAVE SOUZA ==\n",
              "50489     I never said i did you ugly bastard. Get of my...\n",
              "29831                                 MuYou suck asshole ch\n",
              "195219    are dirty little cockmunches that need to get ...\n",
              "89046     \"\\n\\nFuck off you stupid fucking retard cunt.\\...\n",
              "756        Here's an idea \\n\\nGo fuck yourself, cumshitter.\n",
              "75862     lIL HOMIE DON'T FRONT CUZ IF YOU DO I WILL PUT...\n",
              "216073    is fucking bullshit nigga...and i think your g...\n",
              "32098     Fuck All Asyriac Nation \\n\\nQamishli belong to...\n",
              "Name: comment_text, dtype: object"
            ]
          },
          "metadata": {
            "tags": []
          },
          "execution_count": 10
        }
      ]
    },
    {
      "cell_type": "code",
      "metadata": {
        "colab": {
          "base_uri": "https://localhost:8080/"
        },
        "id": "kkuUNBDb005D",
        "outputId": "e638f8bd-13f8-4d33-9e2d-f625a6ecfb79"
      },
      "source": [
        "len(df[df['severe_toxic']==1]),len(df[df['toxic']==1])"
      ],
      "execution_count": null,
      "outputs": [
        {
          "output_type": "execute_result",
          "data": {
            "text/plain": [
              "(1962, 21384)"
            ]
          },
          "metadata": {
            "tags": []
          },
          "execution_count": 11
        }
      ]
    },
    {
      "cell_type": "code",
      "metadata": {
        "id": "9JE7RDXvOAt0"
      },
      "source": [
        "df['toxicity']=0"
      ],
      "execution_count": null,
      "outputs": []
    },
    {
      "cell_type": "code",
      "metadata": {
        "colab": {
          "base_uri": "https://localhost:8080/",
          "height": 402
        },
        "id": "CXEuMfdU1EDL",
        "outputId": "7a6868c4-35f9-49e4-834e-40d81b2dec85"
      },
      "source": [
        "df[(df['toxic']==0) & (df['severe_toxic']==0) & (df['obscene']==0) & (df['threat']==0) & (df['insult']==0) & (df['identity_hate']==0)]"
      ],
      "execution_count": null,
      "outputs": [
        {
          "output_type": "execute_result",
          "data": {
            "text/html": [
              "<div>\n",
              "<style scoped>\n",
              "    .dataframe tbody tr th:only-of-type {\n",
              "        vertical-align: middle;\n",
              "    }\n",
              "\n",
              "    .dataframe tbody tr th {\n",
              "        vertical-align: top;\n",
              "    }\n",
              "\n",
              "    .dataframe thead th {\n",
              "        text-align: right;\n",
              "    }\n",
              "</style>\n",
              "<table border=\"1\" class=\"dataframe\">\n",
              "  <thead>\n",
              "    <tr style=\"text-align: right;\">\n",
              "      <th></th>\n",
              "      <th>id</th>\n",
              "      <th>comment_text</th>\n",
              "      <th>toxic</th>\n",
              "      <th>severe_toxic</th>\n",
              "      <th>obscene</th>\n",
              "      <th>threat</th>\n",
              "      <th>insult</th>\n",
              "      <th>identity_hate</th>\n",
              "      <th>toxicity</th>\n",
              "    </tr>\n",
              "  </thead>\n",
              "  <tbody>\n",
              "    <tr>\n",
              "      <th>25970</th>\n",
              "      <td>44c6f7062a1746f1</td>\n",
              "      <td>\":::::::::::Edit warring, POV pushing, and not...</td>\n",
              "      <td>0</td>\n",
              "      <td>0</td>\n",
              "      <td>0</td>\n",
              "      <td>0</td>\n",
              "      <td>0</td>\n",
              "      <td>0</td>\n",
              "      <td>0</td>\n",
              "    </tr>\n",
              "    <tr>\n",
              "      <th>125290</th>\n",
              "      <td>9e283e3247296b5d</td>\n",
              "      <td>\"\\n\\nFair use rationale for File:Sky tigers.JP...</td>\n",
              "      <td>0</td>\n",
              "      <td>0</td>\n",
              "      <td>0</td>\n",
              "      <td>0</td>\n",
              "      <td>0</td>\n",
              "      <td>0</td>\n",
              "      <td>0</td>\n",
              "    </tr>\n",
              "    <tr>\n",
              "      <th>211553</th>\n",
              "      <td>cf661cd2da4c5d7e</td>\n",
              "      <td>\" \\n : A couple of comments. The information i...</td>\n",
              "      <td>0</td>\n",
              "      <td>0</td>\n",
              "      <td>0</td>\n",
              "      <td>0</td>\n",
              "      <td>0</td>\n",
              "      <td>0</td>\n",
              "      <td>0</td>\n",
              "    </tr>\n",
              "    <tr>\n",
              "      <th>113387</th>\n",
              "      <td>5e6729d799b52836</td>\n",
              "      <td>The article Brendan o shea has been speedily d...</td>\n",
              "      <td>0</td>\n",
              "      <td>0</td>\n",
              "      <td>0</td>\n",
              "      <td>0</td>\n",
              "      <td>0</td>\n",
              "      <td>0</td>\n",
              "      <td>0</td>\n",
              "    </tr>\n",
              "    <tr>\n",
              "      <th>75676</th>\n",
              "      <td>ca7bf36b0aba69f1</td>\n",
              "      <td>Post this to the noticeboard:\\n1. Since I actu...</td>\n",
              "      <td>0</td>\n",
              "      <td>0</td>\n",
              "      <td>0</td>\n",
              "      <td>0</td>\n",
              "      <td>0</td>\n",
              "      <td>0</td>\n",
              "      <td>0</td>\n",
              "    </tr>\n",
              "    <tr>\n",
              "      <th>...</th>\n",
              "      <td>...</td>\n",
              "      <td>...</td>\n",
              "      <td>...</td>\n",
              "      <td>...</td>\n",
              "      <td>...</td>\n",
              "      <td>...</td>\n",
              "      <td>...</td>\n",
              "      <td>...</td>\n",
              "      <td>...</td>\n",
              "    </tr>\n",
              "    <tr>\n",
              "      <th>70847</th>\n",
              "      <td>bd9b431b0ddfeb76</td>\n",
              "      <td>Have a look at this \\n\\nYou might get some ide...</td>\n",
              "      <td>0</td>\n",
              "      <td>0</td>\n",
              "      <td>0</td>\n",
              "      <td>0</td>\n",
              "      <td>0</td>\n",
              "      <td>0</td>\n",
              "      <td>0</td>\n",
              "    </tr>\n",
              "    <tr>\n",
              "      <th>144528</th>\n",
              "      <td>0e6ad15fbe7525f7</td>\n",
              "      <td>So wait, just because it doesn't portray commu...</td>\n",
              "      <td>0</td>\n",
              "      <td>0</td>\n",
              "      <td>0</td>\n",
              "      <td>0</td>\n",
              "      <td>0</td>\n",
              "      <td>0</td>\n",
              "      <td>0</td>\n",
              "    </tr>\n",
              "    <tr>\n",
              "      <th>92118</th>\n",
              "      <td>f64683c27dfec29b</td>\n",
              "      <td>Don't Remove I was the editor who brought in t...</td>\n",
              "      <td>0</td>\n",
              "      <td>0</td>\n",
              "      <td>0</td>\n",
              "      <td>0</td>\n",
              "      <td>0</td>\n",
              "      <td>0</td>\n",
              "      <td>0</td>\n",
              "    </tr>\n",
              "    <tr>\n",
              "      <th>37186</th>\n",
              "      <td>634026d039d0d9f9</td>\n",
              "      <td>Incident # 11 in Political Family of Banglades...</td>\n",
              "      <td>0</td>\n",
              "      <td>0</td>\n",
              "      <td>0</td>\n",
              "      <td>0</td>\n",
              "      <td>0</td>\n",
              "      <td>0</td>\n",
              "      <td>0</td>\n",
              "    </tr>\n",
              "    <tr>\n",
              "      <th>21359</th>\n",
              "      <td>384f539de2eb6072</td>\n",
              "      <td>\"\\nHere is the problem that I have with this. ...</td>\n",
              "      <td>0</td>\n",
              "      <td>0</td>\n",
              "      <td>0</td>\n",
              "      <td>0</td>\n",
              "      <td>0</td>\n",
              "      <td>0</td>\n",
              "      <td>0</td>\n",
              "    </tr>\n",
              "  </tbody>\n",
              "</table>\n",
              "<p>201081 rows × 9 columns</p>\n",
              "</div>"
            ],
            "text/plain": [
              "                      id  ... toxicity\n",
              "25970   44c6f7062a1746f1  ...        0\n",
              "125290  9e283e3247296b5d  ...        0\n",
              "211553  cf661cd2da4c5d7e  ...        0\n",
              "113387  5e6729d799b52836  ...        0\n",
              "75676   ca7bf36b0aba69f1  ...        0\n",
              "...                  ...  ...      ...\n",
              "70847   bd9b431b0ddfeb76  ...        0\n",
              "144528  0e6ad15fbe7525f7  ...        0\n",
              "92118   f64683c27dfec29b  ...        0\n",
              "37186   634026d039d0d9f9  ...        0\n",
              "21359   384f539de2eb6072  ...        0\n",
              "\n",
              "[201081 rows x 9 columns]"
            ]
          },
          "metadata": {
            "tags": []
          },
          "execution_count": 13
        }
      ]
    },
    {
      "cell_type": "code",
      "metadata": {
        "colab": {
          "base_uri": "https://localhost:8080/"
        },
        "id": "5q2BbD5OBuYW",
        "outputId": "5a41d149-d548-434d-af3d-ce172e08c5ce"
      },
      "source": [
        "for index,data in df.iterrows():\n",
        "  if data['toxic']==1 or data['severe_toxic']==1 or data['insult']==1 or data['obscene']==1 or data['threat']==1 or data['identity_hate']==1:\n",
        "    df['toxicity'][index]=1\n",
        "  else:\n",
        "    df['toxicity'][index]=0\n",
        "  "
      ],
      "execution_count": null,
      "outputs": [
        {
          "output_type": "stream",
          "text": [
            "/usr/local/lib/python3.6/dist-packages/ipykernel_launcher.py:5: SettingWithCopyWarning: \n",
            "A value is trying to be set on a copy of a slice from a DataFrame\n",
            "\n",
            "See the caveats in the documentation: https://pandas.pydata.org/pandas-docs/stable/user_guide/indexing.html#returning-a-view-versus-a-copy\n",
            "  \"\"\"\n",
            "/usr/local/lib/python3.6/dist-packages/ipykernel_launcher.py:3: SettingWithCopyWarning: \n",
            "A value is trying to be set on a copy of a slice from a DataFrame\n",
            "\n",
            "See the caveats in the documentation: https://pandas.pydata.org/pandas-docs/stable/user_guide/indexing.html#returning-a-view-versus-a-copy\n",
            "  This is separate from the ipykernel package so we can avoid doing imports until\n"
          ],
          "name": "stderr"
        }
      ]
    },
    {
      "cell_type": "code",
      "metadata": {
        "colab": {
          "base_uri": "https://localhost:8080/"
        },
        "id": "XZh9pUH8FfKx",
        "outputId": "4646647e-5cde-4da7-8856-70dd43dc4d87"
      },
      "source": [
        "len(df[df['toxicity']==1])\n"
      ],
      "execution_count": null,
      "outputs": [
        {
          "output_type": "execute_result",
          "data": {
            "text/plain": [
              "22468"
            ]
          },
          "metadata": {
            "tags": []
          },
          "execution_count": 15
        }
      ]
    },
    {
      "cell_type": "code",
      "metadata": {
        "colab": {
          "base_uri": "https://localhost:8080/"
        },
        "id": "VfEA0I650F8n",
        "outputId": "ae507325-7f67-4706-ceca-cfc3a3e07df3"
      },
      "source": [
        "df.columns"
      ],
      "execution_count": null,
      "outputs": [
        {
          "output_type": "execute_result",
          "data": {
            "text/plain": [
              "Index(['id', 'comment_text', 'toxic', 'severe_toxic', 'obscene', 'threat',\n",
              "       'insult', 'identity_hate', 'toxicity'],\n",
              "      dtype='object')"
            ]
          },
          "metadata": {
            "tags": []
          },
          "execution_count": 16
        }
      ]
    },
    {
      "cell_type": "code",
      "metadata": {
        "colab": {
          "base_uri": "https://localhost:8080/"
        },
        "id": "LHWma0rvh-gF",
        "outputId": "db8d311f-559d-4957-e064-9032fe1bfa5d"
      },
      "source": [
        "len(df)"
      ],
      "execution_count": null,
      "outputs": [
        {
          "output_type": "execute_result",
          "data": {
            "text/plain": [
              "223549"
            ]
          },
          "metadata": {
            "tags": []
          },
          "execution_count": 17
        }
      ]
    },
    {
      "cell_type": "code",
      "metadata": {
        "id": "ImePUCnsPzz9"
      },
      "source": [
        "train_df=pd.concat([df[['comment_text', 'toxicity']].sample(n=200000,random_state=0).query('toxicity==0'),df[['comment_text', 'toxicity']].query('toxicity==1')])"
      ],
      "execution_count": null,
      "outputs": []
    },
    {
      "cell_type": "code",
      "metadata": {
        "id": "ZeY-gi2dUUO1",
        "colab": {
          "base_uri": "https://localhost:8080/",
          "height": 195
        },
        "outputId": "35812b9b-c2ee-4ad1-a1eb-bd1443c058f8"
      },
      "source": [
        "train_df.head()"
      ],
      "execution_count": null,
      "outputs": [
        {
          "output_type": "execute_result",
          "data": {
            "text/html": [
              "<div>\n",
              "<style scoped>\n",
              "    .dataframe tbody tr th:only-of-type {\n",
              "        vertical-align: middle;\n",
              "    }\n",
              "\n",
              "    .dataframe tbody tr th {\n",
              "        vertical-align: top;\n",
              "    }\n",
              "\n",
              "    .dataframe thead th {\n",
              "        text-align: right;\n",
              "    }\n",
              "</style>\n",
              "<table border=\"1\" class=\"dataframe\">\n",
              "  <thead>\n",
              "    <tr style=\"text-align: right;\">\n",
              "      <th></th>\n",
              "      <th>comment_text</th>\n",
              "      <th>toxicity</th>\n",
              "    </tr>\n",
              "  </thead>\n",
              "  <tbody>\n",
              "    <tr>\n",
              "      <th>107394</th>\n",
              "      <td>\"==FL==\\n\\nI'm not sure if we'll have a chance...</td>\n",
              "      <td>0</td>\n",
              "    </tr>\n",
              "    <tr>\n",
              "      <th>172431</th>\n",
              "      <td>== New Kids On The Block == \\n\\n Worldwide sal...</td>\n",
              "      <td>0</td>\n",
              "    </tr>\n",
              "    <tr>\n",
              "      <th>186956</th>\n",
              "      <td>== Blu-ray (software) players == \\n\\n The arti...</td>\n",
              "      <td>0</td>\n",
              "    </tr>\n",
              "    <tr>\n",
              "      <th>207359</th>\n",
              "      <td>\" \\n :Well...that conversation certainly took ...</td>\n",
              "      <td>0</td>\n",
              "    </tr>\n",
              "    <tr>\n",
              "      <th>122342</th>\n",
              "      <td>Articles for deletion \\n\\nI have nominated the...</td>\n",
              "      <td>0</td>\n",
              "    </tr>\n",
              "  </tbody>\n",
              "</table>\n",
              "</div>"
            ],
            "text/plain": [
              "                                             comment_text  toxicity\n",
              "107394  \"==FL==\\n\\nI'm not sure if we'll have a chance...         0\n",
              "172431  == New Kids On The Block == \\n\\n Worldwide sal...         0\n",
              "186956  == Blu-ray (software) players == \\n\\n The arti...         0\n",
              "207359  \" \\n :Well...that conversation certainly took ...         0\n",
              "122342  Articles for deletion \\n\\nI have nominated the...         0"
            ]
          },
          "metadata": {
            "tags": []
          },
          "execution_count": 19
        }
      ]
    },
    {
      "cell_type": "code",
      "metadata": {
        "id": "71VJhBDIsVs3"
      },
      "source": [
        "train_df = train_df.sample(frac = 1) "
      ],
      "execution_count": null,
      "outputs": []
    },
    {
      "cell_type": "code",
      "metadata": {
        "colab": {
          "base_uri": "https://localhost:8080/",
          "height": 195
        },
        "id": "J368BXoCs9JX",
        "outputId": "b8ea5fe2-0c70-4304-ab88-a43891698040"
      },
      "source": [
        "train_df.head(5)"
      ],
      "execution_count": null,
      "outputs": [
        {
          "output_type": "execute_result",
          "data": {
            "text/html": [
              "<div>\n",
              "<style scoped>\n",
              "    .dataframe tbody tr th:only-of-type {\n",
              "        vertical-align: middle;\n",
              "    }\n",
              "\n",
              "    .dataframe tbody tr th {\n",
              "        vertical-align: top;\n",
              "    }\n",
              "\n",
              "    .dataframe thead th {\n",
              "        text-align: right;\n",
              "    }\n",
              "</style>\n",
              "<table border=\"1\" class=\"dataframe\">\n",
              "  <thead>\n",
              "    <tr style=\"text-align: right;\">\n",
              "      <th></th>\n",
              "      <th>comment_text</th>\n",
              "      <th>toxicity</th>\n",
              "    </tr>\n",
              "  </thead>\n",
              "  <tbody>\n",
              "    <tr>\n",
              "      <th>170972</th>\n",
              "      <td>There's plenty of precedent and good reason to...</td>\n",
              "      <td>0</td>\n",
              "    </tr>\n",
              "    <tr>\n",
              "      <th>11515</th>\n",
              "      <td>fifth highest - twelfth highest \\n\\nOn the New...</td>\n",
              "      <td>0</td>\n",
              "    </tr>\n",
              "    <tr>\n",
              "      <th>87819</th>\n",
              "      <td>I am a Turk living in Germany. it seems that m...</td>\n",
              "      <td>0</td>\n",
              "    </tr>\n",
              "    <tr>\n",
              "      <th>55286</th>\n",
              "      <td>Your pw \\n\\n This is Jimbo Welles. I'm doing s...</td>\n",
              "      <td>0</td>\n",
              "    </tr>\n",
              "    <tr>\n",
              "      <th>67409</th>\n",
              "      <td>OK, now I get it. Thanks for the explanation. ...</td>\n",
              "      <td>0</td>\n",
              "    </tr>\n",
              "  </tbody>\n",
              "</table>\n",
              "</div>"
            ],
            "text/plain": [
              "                                             comment_text  toxicity\n",
              "170972  There's plenty of precedent and good reason to...         0\n",
              "11515   fifth highest - twelfth highest \\n\\nOn the New...         0\n",
              "87819   I am a Turk living in Germany. it seems that m...         0\n",
              "55286   Your pw \\n\\n This is Jimbo Welles. I'm doing s...         0\n",
              "67409   OK, now I get it. Thanks for the explanation. ...         0"
            ]
          },
          "metadata": {
            "tags": []
          },
          "execution_count": 20
        }
      ]
    },
    {
      "cell_type": "code",
      "metadata": {
        "colab": {
          "base_uri": "https://localhost:8080/",
          "height": 195
        },
        "id": "XRfm7C6grbjx",
        "outputId": "54b8a6ad-5a72-4b41-81a8-485f5c86687d"
      },
      "source": [
        "train_df.head()"
      ],
      "execution_count": null,
      "outputs": [
        {
          "output_type": "execute_result",
          "data": {
            "text/html": [
              "<div>\n",
              "<style scoped>\n",
              "    .dataframe tbody tr th:only-of-type {\n",
              "        vertical-align: middle;\n",
              "    }\n",
              "\n",
              "    .dataframe tbody tr th {\n",
              "        vertical-align: top;\n",
              "    }\n",
              "\n",
              "    .dataframe thead th {\n",
              "        text-align: right;\n",
              "    }\n",
              "</style>\n",
              "<table border=\"1\" class=\"dataframe\">\n",
              "  <thead>\n",
              "    <tr style=\"text-align: right;\">\n",
              "      <th></th>\n",
              "      <th>comment_text</th>\n",
              "      <th>toxicity</th>\n",
              "    </tr>\n",
              "  </thead>\n",
              "  <tbody>\n",
              "    <tr>\n",
              "      <th>170972</th>\n",
              "      <td>There's plenty of precedent and good reason to...</td>\n",
              "      <td>0</td>\n",
              "    </tr>\n",
              "    <tr>\n",
              "      <th>11515</th>\n",
              "      <td>fifth highest - twelfth highest \\n\\nOn the New...</td>\n",
              "      <td>0</td>\n",
              "    </tr>\n",
              "    <tr>\n",
              "      <th>87819</th>\n",
              "      <td>I am a Turk living in Germany. it seems that m...</td>\n",
              "      <td>0</td>\n",
              "    </tr>\n",
              "    <tr>\n",
              "      <th>55286</th>\n",
              "      <td>Your pw \\n\\n This is Jimbo Welles. I'm doing s...</td>\n",
              "      <td>0</td>\n",
              "    </tr>\n",
              "    <tr>\n",
              "      <th>67409</th>\n",
              "      <td>OK, now I get it. Thanks for the explanation. ...</td>\n",
              "      <td>0</td>\n",
              "    </tr>\n",
              "  </tbody>\n",
              "</table>\n",
              "</div>"
            ],
            "text/plain": [
              "                                             comment_text  toxicity\n",
              "170972  There's plenty of precedent and good reason to...         0\n",
              "11515   fifth highest - twelfth highest \\n\\nOn the New...         0\n",
              "87819   I am a Turk living in Germany. it seems that m...         0\n",
              "55286   Your pw \\n\\n This is Jimbo Welles. I'm doing s...         0\n",
              "67409   OK, now I get it. Thanks for the explanation. ...         0"
            ]
          },
          "metadata": {
            "tags": []
          },
          "execution_count": 21
        }
      ]
    },
    {
      "cell_type": "code",
      "metadata": {
        "colab": {
          "base_uri": "https://localhost:8080/"
        },
        "id": "mGFQvzCzRHgX",
        "outputId": "70f5a165-da68-4899-d0e3-3bf16b44851d"
      },
      "source": [
        "len(train_df[train_df['toxicity']==0]),len(train_df[train_df['toxicity']==1])"
      ],
      "execution_count": null,
      "outputs": [
        {
          "output_type": "execute_result",
          "data": {
            "text/plain": [
              "(179939, 22468)"
            ]
          },
          "metadata": {
            "tags": []
          },
          "execution_count": 22
        }
      ]
    },
    {
      "cell_type": "code",
      "metadata": {
        "colab": {
          "base_uri": "https://localhost:8080/"
        },
        "id": "KeCr6wBV1A8p",
        "outputId": "d7d40565-8228-4bfd-d413-7ae0afaee85d"
      },
      "source": [
        "train_df.columns"
      ],
      "execution_count": null,
      "outputs": [
        {
          "output_type": "execute_result",
          "data": {
            "text/plain": [
              "Index(['comment_text', 'toxicity'], dtype='object')"
            ]
          },
          "metadata": {
            "tags": []
          },
          "execution_count": 23
        }
      ]
    },
    {
      "cell_type": "code",
      "metadata": {
        "colab": {
          "base_uri": "https://localhost:8080/",
          "height": 195
        },
        "id": "w16iyvoZ1EVM",
        "outputId": "28ddb2e9-19cb-47f4-b689-45cb061eb405"
      },
      "source": [
        "train_df.head()"
      ],
      "execution_count": null,
      "outputs": [
        {
          "output_type": "execute_result",
          "data": {
            "text/html": [
              "<div>\n",
              "<style scoped>\n",
              "    .dataframe tbody tr th:only-of-type {\n",
              "        vertical-align: middle;\n",
              "    }\n",
              "\n",
              "    .dataframe tbody tr th {\n",
              "        vertical-align: top;\n",
              "    }\n",
              "\n",
              "    .dataframe thead th {\n",
              "        text-align: right;\n",
              "    }\n",
              "</style>\n",
              "<table border=\"1\" class=\"dataframe\">\n",
              "  <thead>\n",
              "    <tr style=\"text-align: right;\">\n",
              "      <th></th>\n",
              "      <th>comment_text</th>\n",
              "      <th>toxicity</th>\n",
              "    </tr>\n",
              "  </thead>\n",
              "  <tbody>\n",
              "    <tr>\n",
              "      <th>170972</th>\n",
              "      <td>There's plenty of precedent and good reason to...</td>\n",
              "      <td>0</td>\n",
              "    </tr>\n",
              "    <tr>\n",
              "      <th>11515</th>\n",
              "      <td>fifth highest - twelfth highest \\n\\nOn the New...</td>\n",
              "      <td>0</td>\n",
              "    </tr>\n",
              "    <tr>\n",
              "      <th>87819</th>\n",
              "      <td>I am a Turk living in Germany. it seems that m...</td>\n",
              "      <td>0</td>\n",
              "    </tr>\n",
              "    <tr>\n",
              "      <th>55286</th>\n",
              "      <td>Your pw \\n\\n This is Jimbo Welles. I'm doing s...</td>\n",
              "      <td>0</td>\n",
              "    </tr>\n",
              "    <tr>\n",
              "      <th>67409</th>\n",
              "      <td>OK, now I get it. Thanks for the explanation. ...</td>\n",
              "      <td>0</td>\n",
              "    </tr>\n",
              "  </tbody>\n",
              "</table>\n",
              "</div>"
            ],
            "text/plain": [
              "                                             comment_text  toxicity\n",
              "170972  There's plenty of precedent and good reason to...         0\n",
              "11515   fifth highest - twelfth highest \\n\\nOn the New...         0\n",
              "87819   I am a Turk living in Germany. it seems that m...         0\n",
              "55286   Your pw \\n\\n This is Jimbo Welles. I'm doing s...         0\n",
              "67409   OK, now I get it. Thanks for the explanation. ...         0"
            ]
          },
          "metadata": {
            "tags": []
          },
          "execution_count": 24
        }
      ]
    },
    {
      "cell_type": "code",
      "metadata": {
        "colab": {
          "base_uri": "https://localhost:8080/"
        },
        "id": "-oHut0qJ1Gsm",
        "outputId": "7220df04-3d28-47c1-e132-969ad2482d7e"
      },
      "source": [
        "num=len(train_df)*0.8\r\n",
        "num,len(train_df)"
      ],
      "execution_count": null,
      "outputs": [
        {
          "output_type": "execute_result",
          "data": {
            "text/plain": [
              "(161925.6, 202407)"
            ]
          },
          "metadata": {
            "tags": []
          },
          "execution_count": 25
        }
      ]
    },
    {
      "cell_type": "code",
      "metadata": {
        "colab": {
          "base_uri": "https://localhost:8080/"
        },
        "id": "J98GJk20K6TR",
        "outputId": "f64c33e5-76e3-42ea-e0be-bf1146ed88cc"
      },
      "source": [
        "x_train=train_df.iloc[:int(num),0].values\n",
        "x_train[:10]"
      ],
      "execution_count": null,
      "outputs": [
        {
          "output_type": "execute_result",
          "data": {
            "text/plain": [
              "array([\"There's plenty of precedent and good reason to keep separate articles. It would be much better to improve both articles than to sweep one under the rug. -\",\n",
              "       \"fifth highest - twelfth highest \\n\\nOn the New River (Kanawha River) page, it mentions this bridge and says that it's the twelfth highest vehicular bridge. Here it's the fifth. Problem? Does somebody know for certain?\",\n",
              "       'I am a Turk living in Germany. it seems that many people are really unaware of whats going on in Germany. Germans are now getting normal. They are begining to feel ok when they are running around and shouting with their flags. Total German flags sold this year has made a peak and reached the highest level since WW2. I totaly agree with Andersa.',\n",
              "       \"Your pw \\n\\n This is Jimbo Welles. I'm doing some maintence on Wikipedia. Marcus Qwertyus, I'm going to need your password as well as your email address, so I can update on the Wikipedia server.\",\n",
              "       \"OK, now I get it. Thanks for the explanation. I guess it's easy enough to fix. He could be mentioned on the Algerian writers page, for instance.\",\n",
              "       \"This article should not be split \\nI disagree. The f4j began in the UK and spread to the USA. It ended due to the efforts of the founder Matt O'Connor. It continues to exist today due to the efforts of Jamil Jabr and several other dedicated family rights activists. It should not be split, but the path of F4j needs to be clarified. Once past the introductory paragraph, this article is a train wreck.\",\n",
              "       \"Horace Mann does have the best Model UN team in the country.  You're clearly just jealous because you weren't good enough to attend\",\n",
              "       'GO FUCK YOURSELF YOU ANNOYING ORANGE BITCH',\n",
              "       '\"\\nAnd the featured article too.  talk \"',\n",
              "       '\" \\n\\n == The BEE GEES Fifth Best seller?== \\n\\n According to BBC News Entertainment , The Bee Gees have sold more than 110 million records \"\"placing them fifth in pop history behind Elvis Presley, the Beatles, Michael Jackson and Paul McCartney.\"\" 5th worldwide or only in UK? Paul McCartney has never been proclamed to be one of the world best selling artists, any thoughts?  \"'],\n",
              "      dtype=object)"
            ]
          },
          "metadata": {
            "tags": []
          },
          "execution_count": 26
        }
      ]
    },
    {
      "cell_type": "code",
      "metadata": {
        "colab": {
          "base_uri": "https://localhost:8080/"
        },
        "id": "-mTNyobBT1bK",
        "outputId": "8f858076-3e60-4db9-bea7-eff97e30ceef"
      },
      "source": [
        "x_test=train_df.iloc[int(num):,0].values\r\n",
        "x_test[:10]"
      ],
      "execution_count": null,
      "outputs": [
        {
          "output_type": "execute_result",
          "data": {
            "text/plain": [
              "array(['The Genre is Metalcore, It incorporates elements of extreme metal, such as Death Metal, Black Metal, Heavy Metal, Etc. with Hardcore Punk elements. Metalcore has breakdowns and clean vocals, and usually screaming, high and low. The genre is Metalcore, not Deathcore, or Post-Hardcore. - AtheistFish.',\n",
              "       'Unprotected\\nUnder his probation, Messhermit is banned from editing this article.  Since the protection was instituted as a result of that edit warring, I have unprotected it. Tony Sidaway',\n",
              "       '\" \\n\\n == Precious == \\n\\n  \\n\\n  \\n older periods of cricket \\n Thank you, veteran editor with the background of \"\"a lifetime of watching cricket and a 110-year collection of Wisden\"\", for quality articles on cricketers from Colin McCool to Charles Norman, termed \"\"marvellous work on the older periods of cricket\"\", for a modest user page concentrating on projects, for admiring \"\"\"\" - you are an awesome Wikipedian! \\n\\n    \\n \"',\n",
              "       ':::then it is as it should be.',\n",
              "       '== To you == \\n\\n fuck youpiss offI quit',\n",
              "       'Is that not a true description on a booger, if not then prove to me what is!',\n",
              "       'Yes, ignorance is bliss eh? 98.195.24.26',\n",
              "       '\"This article was written, and the favourable review inserted, by user Llywelyn2000, who has claimed on the Welsh Wikipedia to be the copyright owner in it. See the page there for the book cover image, , where he wrote \"\"Prynwyd hawlfraint y nofel gennyf\"\", which means that he bought the copyright, as Google Translate will confirm . \\n\\n As such there is a serious conflict of interest in my opinion. \\n   \"',\n",
              "       '\"\\n Not sure what you mean. I don\\'t think your take on reality is actually logical or reasonable. Dismissing HRW because you think it\\'s \"\"anti-hindu\"\"? How about the UN? What would you deem as \"\"so credible that I can\\'t blank it\"\"?  \"',\n",
              "       'REDIRECT Talk:Newcastle High School for Girls'], dtype=object)"
            ]
          },
          "metadata": {
            "tags": []
          },
          "execution_count": 27
        }
      ]
    },
    {
      "cell_type": "code",
      "metadata": {
        "colab": {
          "base_uri": "https://localhost:8080/"
        },
        "id": "JZCUe45p2xN6",
        "outputId": "bb11301a-8e03-48a9-8a53-7e065e1e364c"
      },
      "source": [
        "len(x_train)"
      ],
      "execution_count": null,
      "outputs": [
        {
          "output_type": "execute_result",
          "data": {
            "text/plain": [
              "161925"
            ]
          },
          "metadata": {
            "tags": []
          },
          "execution_count": 28
        }
      ]
    },
    {
      "cell_type": "code",
      "metadata": {
        "colab": {
          "base_uri": "https://localhost:8080/"
        },
        "id": "DaEzY8G3PO9A",
        "outputId": "20e91d39-a981-423b-ac47-37d324a38004"
      },
      "source": [
        "!pip install transformers"
      ],
      "execution_count": null,
      "outputs": [
        {
          "output_type": "stream",
          "text": [
            "Collecting transformers\n",
            "\u001b[?25l  Downloading https://files.pythonhosted.org/packages/88/b1/41130a228dd656a1a31ba281598a968320283f48d42782845f6ba567f00b/transformers-4.2.2-py3-none-any.whl (1.8MB)\n",
            "\u001b[K     |████████████████████████████████| 1.8MB 15.9MB/s \n",
            "\u001b[?25hRequirement already satisfied: packaging in /usr/local/lib/python3.6/dist-packages (from transformers) (20.8)\n",
            "Collecting sacremoses\n",
            "\u001b[?25l  Downloading https://files.pythonhosted.org/packages/7d/34/09d19aff26edcc8eb2a01bed8e98f13a1537005d31e95233fd48216eed10/sacremoses-0.0.43.tar.gz (883kB)\n",
            "\u001b[K     |████████████████████████████████| 890kB 57.4MB/s \n",
            "\u001b[?25hRequirement already satisfied: regex!=2019.12.17 in /usr/local/lib/python3.6/dist-packages (from transformers) (2019.12.20)\n",
            "Requirement already satisfied: dataclasses; python_version < \"3.7\" in /usr/local/lib/python3.6/dist-packages (from transformers) (0.8)\n",
            "Requirement already satisfied: numpy in /usr/local/lib/python3.6/dist-packages (from transformers) (1.19.5)\n",
            "Requirement already satisfied: filelock in /usr/local/lib/python3.6/dist-packages (from transformers) (3.0.12)\n",
            "Requirement already satisfied: importlib-metadata; python_version < \"3.8\" in /usr/local/lib/python3.6/dist-packages (from transformers) (3.3.0)\n",
            "Requirement already satisfied: tqdm>=4.27 in /usr/local/lib/python3.6/dist-packages (from transformers) (4.41.1)\n",
            "Requirement already satisfied: requests in /usr/local/lib/python3.6/dist-packages (from transformers) (2.23.0)\n",
            "Collecting tokenizers==0.9.4\n",
            "\u001b[?25l  Downloading https://files.pythonhosted.org/packages/0f/1c/e789a8b12e28be5bc1ce2156cf87cb522b379be9cadc7ad8091a4cc107c4/tokenizers-0.9.4-cp36-cp36m-manylinux2010_x86_64.whl (2.9MB)\n",
            "\u001b[K     |████████████████████████████████| 2.9MB 50.5MB/s \n",
            "\u001b[?25hRequirement already satisfied: pyparsing>=2.0.2 in /usr/local/lib/python3.6/dist-packages (from packaging->transformers) (2.4.7)\n",
            "Requirement already satisfied: six in /usr/local/lib/python3.6/dist-packages (from sacremoses->transformers) (1.15.0)\n",
            "Requirement already satisfied: click in /usr/local/lib/python3.6/dist-packages (from sacremoses->transformers) (7.1.2)\n",
            "Requirement already satisfied: joblib in /usr/local/lib/python3.6/dist-packages (from sacremoses->transformers) (1.0.0)\n",
            "Requirement already satisfied: typing-extensions>=3.6.4; python_version < \"3.8\" in /usr/local/lib/python3.6/dist-packages (from importlib-metadata; python_version < \"3.8\"->transformers) (3.7.4.3)\n",
            "Requirement already satisfied: zipp>=0.5 in /usr/local/lib/python3.6/dist-packages (from importlib-metadata; python_version < \"3.8\"->transformers) (3.4.0)\n",
            "Requirement already satisfied: certifi>=2017.4.17 in /usr/local/lib/python3.6/dist-packages (from requests->transformers) (2020.12.5)\n",
            "Requirement already satisfied: chardet<4,>=3.0.2 in /usr/local/lib/python3.6/dist-packages (from requests->transformers) (3.0.4)\n",
            "Requirement already satisfied: urllib3!=1.25.0,!=1.25.1,<1.26,>=1.21.1 in /usr/local/lib/python3.6/dist-packages (from requests->transformers) (1.24.3)\n",
            "Requirement already satisfied: idna<3,>=2.5 in /usr/local/lib/python3.6/dist-packages (from requests->transformers) (2.10)\n",
            "Building wheels for collected packages: sacremoses\n",
            "  Building wheel for sacremoses (setup.py) ... \u001b[?25l\u001b[?25hdone\n",
            "  Created wheel for sacremoses: filename=sacremoses-0.0.43-cp36-none-any.whl size=893261 sha256=17a9fb88dfb102c256467313e0073e11bca19e377c8233a56f283ea3c8fea500\n",
            "  Stored in directory: /root/.cache/pip/wheels/29/3c/fd/7ce5c3f0666dab31a50123635e6fb5e19ceb42ce38d4e58f45\n",
            "Successfully built sacremoses\n",
            "Installing collected packages: sacremoses, tokenizers, transformers\n",
            "Successfully installed sacremoses-0.0.43 tokenizers-0.9.4 transformers-4.2.2\n"
          ],
          "name": "stdout"
        }
      ]
    },
    {
      "cell_type": "code",
      "metadata": {
        "id": "EqvDL-xd1fTv"
      },
      "source": [
        "from transformers import TFDistilBertForSequenceClassification, DistilBertConfig\n",
        "from transformers import BertTokenizer\n",
        "from tokenizers import BertWordPieceTokenizer\n",
        "import transformers"
      ],
      "execution_count": null,
      "outputs": []
    },
    {
      "cell_type": "code",
      "metadata": {
        "id": "0z_aaNIk6KxN"
      },
      "source": [
        "def tokenize_sentences(sentences, tokenizer, max_seq_len = 200):\n",
        "    tokenized_sentences = []\n",
        "    for sentence in sentences:\n",
        "        tokenized_sentence = tokenizer.encode(\n",
        "                            sentence,                  # Sentence to encode.\n",
        "                            add_special_tokens = True, # Add '[CLS]' and '[SEP]'\n",
        "                            max_length = max_seq_len, \n",
        "                            truncation= True           # Truncate all sentences.\n",
        "                    )\n",
        "        \n",
        "        tokenized_sentences.append(tokenized_sentence)\n",
        "\n",
        "    return tokenized_sentences"
      ],
      "execution_count": null,
      "outputs": []
    },
    {
      "cell_type": "code",
      "metadata": {
        "id": "tTY8zfSp65jG"
      },
      "source": [
        "def create_masks(tokenized_and_padded_sentences):\n",
        "    attention_masks = []\n",
        "\n",
        "    for sentence in tokenized_and_padded_sentences:\n",
        "        att_mask = [int(token_id > 0) for token_id in sentence]\n",
        "        attention_masks.append(att_mask)\n",
        "    return np.asarray(attention_masks)"
      ],
      "execution_count": null,
      "outputs": []
    },
    {
      "cell_type": "code",
      "metadata": {
        "colab": {
          "base_uri": "https://localhost:8080/",
          "height": 133,
          "referenced_widgets": [
            "619ddfeeb1834dd8af04bb74e0c7bdd4",
            "fa26db7cd6794df8a50f06e3eaa2a8dd",
            "11c2c190437243c6bfdfa41bcb0183e9",
            "42d6fc1df7df4091a7a7c62e1fe4325d",
            "4fc1f1bd51254b5184530d7d540a1882",
            "442c499eb4db4248b66598edb188d8fc",
            "a2d9f9215b4449bc8692572d61395e54",
            "8c8d95b9cdac44e49e25ccff14f3af63"
          ]
        },
        "id": "foX5mYRK5zn4",
        "outputId": "ad33bf38-bf68-45d6-ad57-b75c3636a024"
      },
      "source": [
        "tokenizer = transformers.DistilBertTokenizer.from_pretrained('distilbert-base-multilingual-cased')\n",
        "tokenizer.save_pretrained('.')\n",
        "\n"
      ],
      "execution_count": null,
      "outputs": [
        {
          "output_type": "display_data",
          "data": {
            "application/vnd.jupyter.widget-view+json": {
              "model_id": "619ddfeeb1834dd8af04bb74e0c7bdd4",
              "version_major": 2,
              "version_minor": 0
            },
            "text/plain": [
              "HBox(children=(FloatProgress(value=0.0, description='Downloading', max=995526.0, style=ProgressStyle(descripti…"
            ]
          },
          "metadata": {
            "tags": []
          }
        },
        {
          "output_type": "stream",
          "text": [
            "\n"
          ],
          "name": "stdout"
        },
        {
          "output_type": "execute_result",
          "data": {
            "text/plain": [
              "('./tokenizer_config.json',\n",
              " './special_tokens_map.json',\n",
              " './vocab.txt',\n",
              " './added_tokens.json')"
            ]
          },
          "metadata": {
            "tags": []
          },
          "execution_count": 33
        }
      ]
    },
    {
      "cell_type": "code",
      "metadata": {
        "colab": {
          "base_uri": "https://localhost:8080/"
        },
        "id": "N5M9OftI1U72",
        "outputId": "3d3c3d7a-65bb-46ca-9e76-2fe8fa871061"
      },
      "source": [
        "#using the vocabulary from the locally saved tokenizer vocab\r\n",
        "bert_tokenizer = BertTokenizer('vocab.txt')\r\n",
        "bert_tokenizer"
      ],
      "execution_count": null,
      "outputs": [
        {
          "output_type": "execute_result",
          "data": {
            "text/plain": [
              "PreTrainedTokenizer(name_or_path='', vocab_size=119547, model_max_len=1000000000000000019884624838656, is_fast=False, padding_side='right', special_tokens={'unk_token': '[UNK]', 'sep_token': '[SEP]', 'pad_token': '[PAD]', 'cls_token': '[CLS]', 'mask_token': '[MASK]'})"
            ]
          },
          "metadata": {
            "tags": []
          },
          "execution_count": 34
        }
      ]
    },
    {
      "cell_type": "code",
      "metadata": {
        "id": "7-e8hp3n7X5X"
      },
      "source": [
        "train_input_ids,test_input_ids=tokenize_sentences(x_train,bert_tokenizer,200),tokenize_sentences(x_test,bert_tokenizer,200)\n",
        "train_input_ids,test_input_ids=pad_sequences(train_input_ids,maxlen=200,padding='post'),pad_sequences(test_input_ids,maxlen=200,padding='post')"
      ],
      "execution_count": null,
      "outputs": []
    },
    {
      "cell_type": "code",
      "metadata": {
        "id": "sOxwDubJZ7zD"
      },
      "source": [
        "x_train_ids,x_test_ids=tf.convert_to_tensor(train_input_ids),tf.convert_to_tensor(test_input_ids)\n",
        "y_train_ids,y_test_ids=train_df.iloc[:int(num),1].values,train_df.iloc[int(num):,1].values\n",
        "y_train_ids,y_test_ids=tf.one_hot(y_train_ids,2),tf.one_hot(y_test_ids,2)"
      ],
      "execution_count": null,
      "outputs": []
    },
    {
      "cell_type": "code",
      "metadata": {
        "colab": {
          "base_uri": "https://localhost:8080/"
        },
        "id": "PeY2AABoemfI",
        "outputId": "320375b0-7bca-4513-abe4-2fb41320236e"
      },
      "source": [
        "print(f'length of train_ids {len(x_train_ids),len(y_train_ids)} , length of test_ids {len(x_test_ids),len(y_test_ids)}')"
      ],
      "execution_count": null,
      "outputs": [
        {
          "output_type": "stream",
          "text": [
            "length of train_ids (161925, 161925) , length of test_ids (40482, 40482)\n"
          ],
          "name": "stdout"
        }
      ]
    },
    {
      "cell_type": "code",
      "metadata": {
        "id": "Dngh846nb4I1"
      },
      "source": [
        "import tensorflow as tf\n",
        "import numpy as np\n",
        "import pandas as pd\n",
        "\n",
        "\n",
        "from tensorflow.keras.layers import Input,Dense\n",
        "from tensorflow.keras.preprocessing.sequence import pad_sequences\n",
        "from tensorflow.keras.models import Model"
      ],
      "execution_count": null,
      "outputs": []
    },
    {
      "cell_type": "code",
      "metadata": {
        "colab": {
          "base_uri": "https://localhost:8080/"
        },
        "id": "q4CGnPqW6SZr",
        "outputId": "e9be327d-b911-4f7f-c4b6-f63d99c6b705"
      },
      "source": [
        "print(tf.__version__)"
      ],
      "execution_count": null,
      "outputs": [
        {
          "output_type": "stream",
          "text": [
            "2.4.0\n"
          ],
          "name": "stdout"
        }
      ]
    },
    {
      "cell_type": "code",
      "metadata": {
        "id": "um4BULW-8w-9"
      },
      "source": [
        "def custom_model(bert_base_layer):\n",
        "    input_word_ids = Input(shape=(200,), dtype=tf.int32)\n",
        "    sequence_output = bert_base_layer(input_word_ids)[0]\n",
        "    cls_token = sequence_output[:, 0, :]\n",
        "    X = tf.keras.layers.BatchNormalization()(cls_token)\n",
        "    X = tf.keras.layers.Dense(200, activation='relu')(X)\n",
        "    X = tf.keras.layers.Dropout(0.2)(X)\n",
        "    out = Dense(2, activation='softmax')(X)\n",
        "\n",
        "    return tf.keras.Model(inputs=input_word_ids,outputs=out)"
      ],
      "execution_count": null,
      "outputs": []
    },
    {
      "cell_type": "code",
      "metadata": {
        "colab": {
          "base_uri": "https://localhost:8080/",
          "height": 218,
          "referenced_widgets": [
            "a6d54abd0e0e46669604431903aff85b",
            "e2ffb55c0c2644fda720bc3891ec3b23",
            "b0628e5f8df842a4af1085b2595bc0c9",
            "83122fe79f3844609a190d83e6eadfa9",
            "b767022cd0134359aa9da64e766deefe",
            "b3047e1291fa4c338eb36657ef83f75e",
            "cdb42c3863eb40d680927c2abe511f9c",
            "a0f959baf1394cb5af74f0ea63c90d4d",
            "e7a14c7837f0448fa126435845b652bb",
            "ffb60f44609849f2bcf29f064ef3bcfc",
            "648a32bbd9c046ebbfda3b57e591e791",
            "11d53c8c0abd4dc48e61c536e8507229",
            "335e5e8ff5c245a299e2efe07ac0c62c",
            "f58690f7431e447fab302da88f410914",
            "0c597fad663c4c9aaf5f3001ac7d906b",
            "13467353c9e5484185f170b8522377f7"
          ]
        },
        "id": "27R6CrknHrwT",
        "outputId": "be31d00e-d563-4f50-80f1-edc7920459bc"
      },
      "source": [
        "bert_base_layer = (\n",
        "        transformers.TFDistilBertModel\n",
        "        .from_pretrained('distilbert-base-multilingual-cased')\n",
        "    )\n"
      ],
      "execution_count": null,
      "outputs": [
        {
          "output_type": "display_data",
          "data": {
            "application/vnd.jupyter.widget-view+json": {
              "model_id": "a6d54abd0e0e46669604431903aff85b",
              "version_major": 2,
              "version_minor": 0
            },
            "text/plain": [
              "HBox(children=(FloatProgress(value=0.0, description='Downloading', max=466.0, style=ProgressStyle(description_…"
            ]
          },
          "metadata": {
            "tags": []
          }
        },
        {
          "output_type": "stream",
          "text": [
            "\n"
          ],
          "name": "stdout"
        },
        {
          "output_type": "display_data",
          "data": {
            "application/vnd.jupyter.widget-view+json": {
              "model_id": "e7a14c7837f0448fa126435845b652bb",
              "version_major": 2,
              "version_minor": 0
            },
            "text/plain": [
              "HBox(children=(FloatProgress(value=0.0, description='Downloading', max=910749124.0, style=ProgressStyle(descri…"
            ]
          },
          "metadata": {
            "tags": []
          }
        },
        {
          "output_type": "stream",
          "text": [
            "\n"
          ],
          "name": "stdout"
        },
        {
          "output_type": "stream",
          "text": [
            "Some layers from the model checkpoint at distilbert-base-multilingual-cased were not used when initializing TFDistilBertModel: ['vocab_projector', 'vocab_transform', 'activation_13', 'vocab_layer_norm']\n",
            "- This IS expected if you are initializing TFDistilBertModel from the checkpoint of a model trained on another task or with another architecture (e.g. initializing a BertForSequenceClassification model from a BertForPreTraining model).\n",
            "- This IS NOT expected if you are initializing TFDistilBertModel from the checkpoint of a model that you expect to be exactly identical (initializing a BertForSequenceClassification model from a BertForSequenceClassification model).\n",
            "All the layers of TFDistilBertModel were initialized from the model checkpoint at distilbert-base-multilingual-cased.\n",
            "If your task is similar to the task the model of the checkpoint was trained on, you can already use TFDistilBertModel for predictions without further training.\n"
          ],
          "name": "stderr"
        }
      ]
    },
    {
      "cell_type": "code",
      "metadata": {
        "colab": {
          "base_uri": "https://localhost:8080/"
        },
        "id": "XRpGW51WQnxj",
        "outputId": "c86ab8f5-a25b-444c-e4f2-33d0f026891c"
      },
      "source": [
        "custom_model=custom_model(bert_base_layer)"
      ],
      "execution_count": null,
      "outputs": [
        {
          "output_type": "stream",
          "text": [
            "WARNING:tensorflow:AutoGraph could not transform <bound method Socket.send of <zmq.sugar.socket.Socket object at 0x7fe8543b8590>> and will run it as-is.\n",
            "Please report this to the TensorFlow team. When filing the bug, set the verbosity to 10 (on Linux, `export AUTOGRAPH_VERBOSITY=10`) and attach the full output.\n",
            "Cause: <cyfunction Socket.send at 0x7fe871d5fd90> is not a module, class, method, function, traceback, frame, or code object\n",
            "To silence this warning, decorate the function with @tf.autograph.experimental.do_not_convert\n",
            "WARNING: AutoGraph could not transform <bound method Socket.send of <zmq.sugar.socket.Socket object at 0x7fe8543b8590>> and will run it as-is.\n",
            "Please report this to the TensorFlow team. When filing the bug, set the verbosity to 10 (on Linux, `export AUTOGRAPH_VERBOSITY=10`) and attach the full output.\n",
            "Cause: <cyfunction Socket.send at 0x7fe871d5fd90> is not a module, class, method, function, traceback, frame, or code object\n",
            "To silence this warning, decorate the function with @tf.autograph.experimental.do_not_convert\n"
          ],
          "name": "stdout"
        },
        {
          "output_type": "stream",
          "text": [
            "The parameters `output_attentions`, `output_hidden_states` and `use_cache` cannot be updated when calling a model.They have to be set to True/False in the config object (i.e.: `config=XConfig.from_pretrained('name', output_attentions=True)`).\n"
          ],
          "name": "stderr"
        },
        {
          "output_type": "stream",
          "text": [
            "WARNING:tensorflow:AutoGraph could not transform <function wrap at 0x7fe86f6ec9d8> and will run it as-is.\n",
            "Cause: while/else statement not yet supported\n",
            "To silence this warning, decorate the function with @tf.autograph.experimental.do_not_convert\n"
          ],
          "name": "stdout"
        },
        {
          "output_type": "stream",
          "text": [
            "The parameter `return_dict` cannot be set in graph mode and will always be set to `True`.\n"
          ],
          "name": "stderr"
        },
        {
          "output_type": "stream",
          "text": [
            "WARNING: AutoGraph could not transform <function wrap at 0x7fe86f6ec9d8> and will run it as-is.\n",
            "Cause: while/else statement not yet supported\n",
            "To silence this warning, decorate the function with @tf.autograph.experimental.do_not_convert\n"
          ],
          "name": "stdout"
        }
      ]
    },
    {
      "cell_type": "code",
      "metadata": {
        "colab": {
          "base_uri": "https://localhost:8080/"
        },
        "id": "aOLlqHPr6_tz",
        "outputId": "6a0c8bbe-da66-4d41-db22-5e6682f9b112"
      },
      "source": [
        "custom_model.summary()"
      ],
      "execution_count": null,
      "outputs": [
        {
          "output_type": "stream",
          "text": [
            "Model: \"model\"\n",
            "_________________________________________________________________\n",
            "Layer (type)                 Output Shape              Param #   \n",
            "=================================================================\n",
            "input_1 (InputLayer)         [(None, 200)]             0         \n",
            "_________________________________________________________________\n",
            "tf_distil_bert_model (TFDist TFBaseModelOutput(last_hi 134734080 \n",
            "_________________________________________________________________\n",
            "tf.__operators__.getitem (Sl (None, 768)               0         \n",
            "_________________________________________________________________\n",
            "batch_normalization (BatchNo (None, 768)               3072      \n",
            "_________________________________________________________________\n",
            "dense (Dense)                (None, 200)               153800    \n",
            "_________________________________________________________________\n",
            "dropout_19 (Dropout)         (None, 200)               0         \n",
            "_________________________________________________________________\n",
            "dense_1 (Dense)              (None, 2)                 402       \n",
            "=================================================================\n",
            "Total params: 134,891,354\n",
            "Trainable params: 134,889,818\n",
            "Non-trainable params: 1,536\n",
            "_________________________________________________________________\n"
          ],
          "name": "stdout"
        }
      ]
    },
    {
      "cell_type": "code",
      "metadata": {
        "id": "lOfmBDV57wqY"
      },
      "source": [
        "# import json"
      ],
      "execution_count": null,
      "outputs": []
    },
    {
      "cell_type": "code",
      "metadata": {
        "id": "1cqh_f8y6jxU"
      },
      "source": [
        "# config=custom_model.to_json()"
      ],
      "execution_count": null,
      "outputs": []
    },
    {
      "cell_type": "code",
      "metadata": {
        "id": "KlsTOr7UMNag"
      },
      "source": [
        "# bert_model=TFDistilBertForSequenceClassification.from_pretrained('distilbert-base-uncased',config=DistilBertConfig(num_classes=2))"
      ],
      "execution_count": null,
      "outputs": []
    },
    {
      "cell_type": "code",
      "metadata": {
        "id": "oOpHLJTdPZKQ"
      },
      "source": [
        "# bert_model.summary()"
      ],
      "execution_count": null,
      "outputs": []
    },
    {
      "cell_type": "code",
      "metadata": {
        "colab": {
          "base_uri": "https://localhost:8080/"
        },
        "id": "XoUC1iZg_Ex3",
        "outputId": "087ddfc9-fb3f-448e-d564-005a85c31e2c"
      },
      "source": [
        "optimizer = tf.keras.optimizers.Adam(learning_rate=2e-5)\n",
        "filepath='bert_toxicity_model_2.0.h5'\n",
        "model_checkpoint=tf.keras.callbacks.ModelCheckpoint(filepath=filepath, monitor='loss', save_best_only=True,\n",
        "                                                    verbose=1,save_weights_only=True,mode='auto',period=1)\n",
        "loss = tf.keras.losses.CategoricalCrossentropy(from_logits=True)\n",
        "# bert_model.compile(optimizer=optimizer,loss=loss)\n",
        "custom_model.compile(optimizer=optimizer,loss=loss,metrics=['accuracy'])"
      ],
      "execution_count": null,
      "outputs": [
        {
          "output_type": "stream",
          "text": [
            "WARNING:tensorflow:`period` argument is deprecated. Please use `save_freq` to specify the frequency in number of batches seen.\n"
          ],
          "name": "stdout"
        }
      ]
    },
    {
      "cell_type": "code",
      "metadata": {
        "colab": {
          "base_uri": "https://localhost:8080/"
        },
        "id": "KCsnYhjBTdhT",
        "outputId": "7b46d6a8-a10e-4b72-9d9a-0559144b50f2"
      },
      "source": [
        "x_train_ids[1],y_train_ids[1]"
      ],
      "execution_count": null,
      "outputs": [
        {
          "output_type": "execute_result",
          "data": {
            "text/plain": [
              "(<tf.Tensor: shape=(200,), dtype=int32, numpy=\n",
              " array([  101, 22237, 18134,   118,   188, 82735, 18134, 10135, 10105,\n",
              "        10751, 16965,   113, 54660, 10874, 10921, 16965,   114, 15975,\n",
              "          117, 10271, 70953, 10531, 21126, 10111, 22153, 10189, 10271,\n",
              "          112,   187, 10105,   188, 82735, 18134, 10323, 39187, 18062,\n",
              "        21126,   119, 19353, 10271,   112,   187, 10105, 22237,   119,\n",
              "        18077,   136, 15107, 11152, 38078, 21852, 10142, 16620,   136,\n",
              "          102,     0,     0,     0,     0,     0,     0,     0,     0,\n",
              "            0,     0,     0,     0,     0,     0,     0,     0,     0,\n",
              "            0,     0,     0,     0,     0,     0,     0,     0,     0,\n",
              "            0,     0,     0,     0,     0,     0,     0,     0,     0,\n",
              "            0,     0,     0,     0,     0,     0,     0,     0,     0,\n",
              "            0,     0,     0,     0,     0,     0,     0,     0,     0,\n",
              "            0,     0,     0,     0,     0,     0,     0,     0,     0,\n",
              "            0,     0,     0,     0,     0,     0,     0,     0,     0,\n",
              "            0,     0,     0,     0,     0,     0,     0,     0,     0,\n",
              "            0,     0,     0,     0,     0,     0,     0,     0,     0,\n",
              "            0,     0,     0,     0,     0,     0,     0,     0,     0,\n",
              "            0,     0,     0,     0,     0,     0,     0,     0,     0,\n",
              "            0,     0,     0,     0,     0,     0,     0,     0,     0,\n",
              "            0,     0,     0,     0,     0,     0,     0,     0,     0,\n",
              "            0,     0,     0,     0,     0,     0,     0,     0,     0,\n",
              "            0,     0,     0,     0,     0,     0,     0,     0,     0,\n",
              "            0,     0], dtype=int32)>,\n",
              " <tf.Tensor: shape=(2,), dtype=float32, numpy=array([1., 0.], dtype=float32)>)"
            ]
          },
          "metadata": {
            "tags": []
          },
          "execution_count": 49
        }
      ]
    },
    {
      "cell_type": "code",
      "metadata": {
        "id": "e2h8TSE6VKTB"
      },
      "source": [
        "AUTO = tf.data.experimental.AUTOTUNE\n",
        "train_dataset_bert=tf.data.Dataset.from_tensor_slices((x_train_ids,y_train_ids)).batch(32,drop_remainder=True).prefetch(AUTO)\n",
        "val_dataset_bert=tf.data.Dataset.from_tensor_slices((x_test_ids,y_test_ids)).batch(32,drop_remainder=True).prefetch(AUTO)"
      ],
      "execution_count": null,
      "outputs": []
    },
    {
      "cell_type": "code",
      "metadata": {
        "colab": {
          "base_uri": "https://localhost:8080/"
        },
        "id": "spnW6dRJTt8X",
        "outputId": "bd97a345-0e5f-4716-f223-24033681e15c"
      },
      "source": [
        "type(train_dataset_bert)"
      ],
      "execution_count": null,
      "outputs": [
        {
          "output_type": "execute_result",
          "data": {
            "text/plain": [
              "tensorflow.python.data.ops.dataset_ops.PrefetchDataset"
            ]
          },
          "metadata": {
            "tags": []
          },
          "execution_count": 51
        }
      ]
    },
    {
      "cell_type": "code",
      "metadata": {
        "id": "15CRTnaKaGAi"
      },
      "source": [
        "for layer in custom_model.layers[:3]:\n",
        "    layer.trainable=False"
      ],
      "execution_count": null,
      "outputs": []
    },
    {
      "cell_type": "code",
      "metadata": {
        "id": "3TmCmS24ikcD"
      },
      "source": [
        "# hist=bert_model.fit(train_ids,y_data,steps_per_epoch=len(train_ids),epochs=1,callbacks=[model_checkpoint])"
      ],
      "execution_count": null,
      "outputs": []
    },
    {
      "cell_type": "code",
      "metadata": {
        "colab": {
          "base_uri": "https://localhost:8080/"
        },
        "id": "7bQIFVk0iuTN",
        "outputId": "0cda3ee4-854f-4bcd-d220-c8815c3bf2d2"
      },
      "source": [
        "i=0\n",
        "for x,y in train_dataset_bert:\n",
        "  i+=1\n",
        "\n",
        "print(i)"
      ],
      "execution_count": null,
      "outputs": [
        {
          "output_type": "stream",
          "text": [
            "5060\n"
          ],
          "name": "stdout"
        }
      ]
    },
    {
      "cell_type": "code",
      "metadata": {
        "colab": {
          "base_uri": "https://localhost:8080/"
        },
        "id": "CYVuI2Fq8v1n",
        "outputId": "8dc37fc2-f507-4d1b-8327-e57280ba2bb6"
      },
      "source": [
        "train_dataset_bert,val_dataset_bert"
      ],
      "execution_count": null,
      "outputs": [
        {
          "output_type": "execute_result",
          "data": {
            "text/plain": [
              "(<PrefetchDataset shapes: ((32, 200), (32, 2)), types: (tf.int32, tf.float32)>,\n",
              " <PrefetchDataset shapes: ((32, 200), (32, 2)), types: (tf.int32, tf.float32)>)"
            ]
          },
          "metadata": {
            "tags": []
          },
          "execution_count": 55
        }
      ]
    },
    {
      "cell_type": "code",
      "metadata": {
        "colab": {
          "background_save": true,
          "base_uri": "https://localhost:8080/"
        },
        "id": "i6KGRC73Xdm7",
        "outputId": "1b6107bb-263f-4c3e-8357-77f739e413f4"
      },
      "source": [
        "hist=custom_model.fit(train_dataset_bert,steps_per_epoch=int(len(x_train_ids)/32),validation_data=val_dataset_bert,epochs=1,callbacks=[model_checkpoint])"
      ],
      "execution_count": null,
      "outputs": [
        {
          "output_type": "stream",
          "text": [
            "The parameters `output_attentions`, `output_hidden_states` and `use_cache` cannot be updated when calling a model.They have to be set to True/False in the config object (i.e.: `config=XConfig.from_pretrained('name', output_attentions=True)`).\n",
            "The parameter `return_dict` cannot be set in graph mode and will always be set to `True`.\n",
            "The parameters `output_attentions`, `output_hidden_states` and `use_cache` cannot be updated when calling a model.They have to be set to True/False in the config object (i.e.: `config=XConfig.from_pretrained('name', output_attentions=True)`).\n",
            "The parameter `return_dict` cannot be set in graph mode and will always be set to `True`.\n"
          ],
          "name": "stderr"
        },
        {
          "output_type": "stream",
          "text": [
            "5060/5060 [==============================] - ETA: 0s - loss: 0.1889 - accuracy: 0.9289"
          ],
          "name": "stdout"
        },
        {
          "output_type": "stream",
          "text": [
            "The parameters `output_attentions`, `output_hidden_states` and `use_cache` cannot be updated when calling a model.They have to be set to True/False in the config object (i.e.: `config=XConfig.from_pretrained('name', output_attentions=True)`).\n",
            "The parameter `return_dict` cannot be set in graph mode and will always be set to `True`.\n"
          ],
          "name": "stderr"
        },
        {
          "output_type": "stream",
          "text": [
            "\b\b\b\b\b\b\b\b\b\b\b\b\b\b\b\b\b\b\b\b\b\b\b\b\b\b\b\b\b\b\b\b\b\b\b\b\b\b\b\b\b\b\b\b\b\b\b\b\b\b\b\b\b\b\b\b\b\b\b\b\b\b\b\b\b\b\b\b\b\b\b\b\b\b\b\b\b\b\b\b\b\b\b\b\b\b\r5060/5060 [==============================] - 3663s 723ms/step - loss: 0.1889 - accuracy: 0.9289 - val_loss: 0.1230 - val_accuracy: 0.9504\n",
            "\n",
            "Epoch 00001: loss improved from inf to 0.14857, saving model to bert_toxicity_model_2.0.h5\n"
          ],
          "name": "stdout"
        }
      ]
    },
    {
      "cell_type": "code",
      "metadata": {
        "colab": {
          "background_save": true
        },
        "id": "P_EnIjpdWVb8",
        "outputId": "30e6af7b-042d-42b5-f56f-d74ef319fc47"
      },
      "source": [
        "hist=custom_model.fit(train_dataset_bert,steps_per_epoch=int(len(x_train_ids)/32),validation_data=val_dataset_bert,epochs=1,callbacks=[model_checkpoint])"
      ],
      "execution_count": null,
      "outputs": [
        {
          "output_type": "stream",
          "text": [
            "5060/5060 [==============================] - 3659s 723ms/step - loss: 0.1056 - accuracy: 0.9573 - val_loss: 0.1235 - val_accuracy: 0.9509\n",
            "\n",
            "Epoch 00001: loss improved from 0.14857 to 0.10563, saving model to bert_toxicity_model_2.0.h5\n"
          ],
          "name": "stdout"
        }
      ]
    },
    {
      "cell_type": "code",
      "metadata": {
        "colab": {
          "background_save": true
        },
        "id": "lu350QxnhaoZ",
        "outputId": "4bf99bd8-9502-426d-e612-a86414039542"
      },
      "source": [
        "hist=custom_model.fit(train_dataset_bert,steps_per_epoch=int(len(x_train_ids)/32),validation_data=val_dataset_bert,epochs=1,callbacks=[model_checkpoint])"
      ],
      "execution_count": null,
      "outputs": [
        {
          "output_type": "stream",
          "text": [
            "5060/5060 [==============================] - 3656s 722ms/step - loss: 0.0827 - accuracy: 0.9657 - val_loss: 0.1360 - val_accuracy: 0.9468\n",
            "\n",
            "Epoch 00001: loss improved from 0.10563 to 0.08274, saving model to bert_toxicity_model_2.0.h5\n"
          ],
          "name": "stdout"
        }
      ]
    },
    {
      "cell_type": "code",
      "metadata": {
        "id": "_JStJIlpYD02"
      },
      "source": [
        "hist=custom_model.fit(train_dataset_bert,steps_per_epoch=int(len(x_train_ids)/32),epochs=1,validation_data=val_dataset_bert,callbacks=[model_checkpoint])"
      ],
      "execution_count": null,
      "outputs": []
    },
    {
      "cell_type": "code",
      "metadata": {
        "id": "PdaaZN4orzVv"
      },
      "source": [
        "# custom_model.save_weights('bert_again.h5')"
      ],
      "execution_count": null,
      "outputs": []
    },
    {
      "cell_type": "code",
      "metadata": {
        "id": "Wc2pc4OosbXq"
      },
      "source": [
        "custom_model.predict(x_train_ids[200:201]).argmax(-1)"
      ],
      "execution_count": null,
      "outputs": []
    },
    {
      "cell_type": "code",
      "metadata": {
        "id": "GP5kXwRHvjGz"
      },
      "source": [
        "custom_model.evaluate(x_train_ids,y_train_ids)"
      ],
      "execution_count": null,
      "outputs": []
    },
    {
      "cell_type": "code",
      "metadata": {
        "id": "fAwwa9ZjhiDm"
      },
      "source": [
        "import matplotlib.pyplot as plt"
      ],
      "execution_count": null,
      "outputs": []
    },
    {
      "cell_type": "code",
      "metadata": {
        "id": "cHLYriZWhTOf"
      },
      "source": [
        "# plt.plot(hist.history['loss'],label='loss')\n",
        "# plt.plot(hist.history['accuracy'],label='accuracy')\n",
        "# plt.legend()"
      ],
      "execution_count": null,
      "outputs": []
    },
    {
      "cell_type": "code",
      "metadata": {
        "id": "-uNo7pJOGuth"
      },
      "source": [
        "#random tests"
      ],
      "execution_count": null,
      "outputs": []
    },
    {
      "cell_type": "code",
      "metadata": {
        "id": "9YJpv4gGzvv0"
      },
      "source": [
        "random_test_sentences=[\"you really wanna fuck it...i am going to hell.This bitch is nuts. Who would read a book by a woman\",\"what the fuck man lol......you're are such a hypocrite!\",\"i am a good boy.i really love to sing song watch movies\",\"my hobby is playing\"]\n",
        "random_test_ids=tokenize_sentences(random_test_sentences,bert_tokenizer)"
      ],
      "execution_count": null,
      "outputs": []
    },
    {
      "cell_type": "code",
      "metadata": {
        "id": "QP-xhNuRz1rW"
      },
      "source": [
        "random_test_ids=pad_sequences(random_test_ids,maxlen=200,padding='post')\n",
        "random_test_ids"
      ],
      "execution_count": null,
      "outputs": []
    },
    {
      "cell_type": "code",
      "metadata": {
        "id": "aIllewrBz6Ty"
      },
      "source": [
        "random_test_ids=tf.convert_to_tensor(random_test_ids)"
      ],
      "execution_count": null,
      "outputs": []
    },
    {
      "cell_type": "code",
      "metadata": {
        "id": "o8gJ3_k8z87R"
      },
      "source": [
        "custom_model.predict(random_test_ids).argmax(-1)  ##test cases passed on 4 random sentences"
      ],
      "execution_count": null,
      "outputs": []
    },
    {
      "cell_type": "code",
      "metadata": {
        "id": "Y-kq9xIXiJJo"
      },
      "source": [
        "#train on validation_dataset (multilingual part)"
      ],
      "execution_count": null,
      "outputs": []
    },
    {
      "cell_type": "code",
      "metadata": {
        "id": "LhEd0D4JWK1S"
      },
      "source": [
        "valid_dataset=pd.read_csv('/content/drive/MyDrive/validation.csv')\n",
        "valid_dataset.head()"
      ],
      "execution_count": null,
      "outputs": []
    },
    {
      "cell_type": "code",
      "metadata": {
        "id": "9mvq9_Od0fPy"
      },
      "source": [
        "x_val_data=valid_dataset.iloc[:,1].values\n",
        "y_val_data=valid_dataset.iloc[:,3].values\n"
      ],
      "execution_count": null,
      "outputs": []
    },
    {
      "cell_type": "code",
      "metadata": {
        "id": "ymfkCtw505yq"
      },
      "source": [
        "valid_ids=tokenize_sentences(x_val_data,bert_tokenizer,200)\n",
        "valid_ids=pad_sequences(valid_ids,maxlen=200,padding='post')"
      ],
      "execution_count": null,
      "outputs": []
    },
    {
      "cell_type": "code",
      "metadata": {
        "id": "lTrG8ea5tAxs"
      },
      "source": [
        "x_valid_ids=tf.convert_to_tensor(valid_ids)\n",
        "y_valid_ids=tf.one_hot(y_val_data,2)"
      ],
      "execution_count": null,
      "outputs": []
    },
    {
      "cell_type": "code",
      "metadata": {
        "id": "7p4lhgOlbga_"
      },
      "source": [
        "val_dataset_bert= tf.data.Dataset.from_tensor_slices((x_valid_ids,y_valid_ids)).batch(32,drop_remainder=True).prefetch(AUTO)"
      ],
      "execution_count": null,
      "outputs": []
    },
    {
      "cell_type": "code",
      "metadata": {
        "id": "VaAHIqfa2dn4"
      },
      "source": [
        "count=0\n",
        "for x,y in val_dataset_bert:\n",
        "  count+=1\n",
        "print(count)"
      ],
      "execution_count": null,
      "outputs": []
    },
    {
      "cell_type": "code",
      "metadata": {
        "id": "wa7JZCjf3uEo"
      },
      "source": [
        "len(valid_dataset)"
      ],
      "execution_count": null,
      "outputs": []
    },
    {
      "cell_type": "code",
      "metadata": {
        "id": "fqmKy4Rg1xpd"
      },
      "source": [
        "custom_model.fit(val_dataset_bert.repeat(),steps_per_epoch=int(len(valid_dataset)/32),epochs=1)"
      ],
      "execution_count": null,
      "outputs": []
    },
    {
      "cell_type": "code",
      "metadata": {
        "id": "rzh4jhrF45xy"
      },
      "source": [
        "custom_model.fit(val_dataset_bert.repeat(),steps_per_epoch=int(len(valid_dataset)/32),epochs=8)"
      ],
      "execution_count": null,
      "outputs": []
    },
    {
      "cell_type": "code",
      "metadata": {
        "id": "oup9O5g3-ii2"
      },
      "source": [
        "valid_dataset['lang'].unique()"
      ],
      "execution_count": null,
      "outputs": []
    },
    {
      "cell_type": "code",
      "metadata": {
        "id": "XFLYjnDU3tO9"
      },
      "source": [
        "test_data=pd.read_csv('/content/drive/MyDrive/Data/Multilingual Toxicity page detection/test.csv')"
      ],
      "execution_count": null,
      "outputs": []
    },
    {
      "cell_type": "code",
      "metadata": {
        "id": "LvEKwIQ1_fs8"
      },
      "source": [
        "test_data.head()"
      ],
      "execution_count": null,
      "outputs": []
    },
    {
      "cell_type": "code",
      "metadata": {
        "id": "vbmuqq_5_kU3"
      },
      "source": [
        "test_data['lang'].unique()"
      ],
      "execution_count": null,
      "outputs": []
    },
    {
      "cell_type": "code",
      "metadata": {
        "id": "_3xKAhFmBNrJ"
      },
      "source": [
        "custom_model.predict(random_test_ids).argmax(-1) # again test on random_english_test_ids after training on validation data"
      ],
      "execution_count": null,
      "outputs": []
    },
    {
      "cell_type": "code",
      "metadata": {
        "id": "yPxRN-sCCZ8x"
      },
      "source": [
        "custom_model.save_weights('New_multiligual_bert.h5')"
      ],
      "execution_count": null,
      "outputs": []
    },
    {
      "cell_type": "code",
      "metadata": {
        "id": "yjCnTEP5BsMC"
      },
      "source": [
        "custom_model.predict(x_valid_ids[:3]).argmax(-1)   #test on validation data itself is passed see [111]"
      ],
      "execution_count": null,
      "outputs": []
    }
  ]
}