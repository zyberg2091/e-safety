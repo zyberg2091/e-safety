{
 "metadata": {
  "language_info": {
   "codemirror_mode": {
    "name": "ipython",
    "version": 3
   },
   "file_extension": ".py",
   "mimetype": "text/x-python",
   "name": "python",
   "nbconvert_exporter": "python",
   "pygments_lexer": "ipython3",
   "version": "3.7.9-final"
  },
  "orig_nbformat": 2,
  "kernelspec": {
   "name": "python3",
   "display_name": "Python 3",
   "language": "python"
  }
 },
 "nbformat": 4,
 "nbformat_minor": 2,
 "cells": [
  {
   "cell_type": "code",
   "execution_count": 1,
   "metadata": {},
   "outputs": [],
   "source": [
    "import pandas as pd\n",
    "import numpy as np"
   ]
  },
  {
   "cell_type": "code",
   "execution_count": 2,
   "metadata": {},
   "outputs": [
    {
     "output_type": "execute_result",
     "data": {
      "text/plain": [
       "   Unnamed: 0                                             titles  label\n",
       "0           0  Busty British mature wants you to finish and f...      1\n",
       "1           1  Busty tattooed chick gets a new tattoo on her ...      1\n",
       "2           2  Tiny Latina teen being taught a lesson while h...      1\n",
       "3           3                         Girls show ass and asshole      1\n",
       "4           4  Hot cute beautiful teen with their young faces...      1"
      ],
      "text/html": "<div>\n<style scoped>\n    .dataframe tbody tr th:only-of-type {\n        vertical-align: middle;\n    }\n\n    .dataframe tbody tr th {\n        vertical-align: top;\n    }\n\n    .dataframe thead th {\n        text-align: right;\n    }\n</style>\n<table border=\"1\" class=\"dataframe\">\n  <thead>\n    <tr style=\"text-align: right;\">\n      <th></th>\n      <th>Unnamed: 0</th>\n      <th>titles</th>\n      <th>label</th>\n    </tr>\n  </thead>\n  <tbody>\n    <tr>\n      <th>0</th>\n      <td>0</td>\n      <td>Busty British mature wants you to finish and f...</td>\n      <td>1</td>\n    </tr>\n    <tr>\n      <th>1</th>\n      <td>1</td>\n      <td>Busty tattooed chick gets a new tattoo on her ...</td>\n      <td>1</td>\n    </tr>\n    <tr>\n      <th>2</th>\n      <td>2</td>\n      <td>Tiny Latina teen being taught a lesson while h...</td>\n      <td>1</td>\n    </tr>\n    <tr>\n      <th>3</th>\n      <td>3</td>\n      <td>Girls show ass and asshole</td>\n      <td>1</td>\n    </tr>\n    <tr>\n      <th>4</th>\n      <td>4</td>\n      <td>Hot cute beautiful teen with their young faces...</td>\n      <td>1</td>\n    </tr>\n  </tbody>\n</table>\n</div>"
     },
     "metadata": {},
     "execution_count": 2
    }
   ],
   "source": [
    "df=pd.read_csv(\"Must watch.csv\")\n",
    "df.head()"
   ]
  },
  {
   "cell_type": "code",
   "execution_count": 3,
   "metadata": {},
   "outputs": [],
   "source": [
    "df=df[['titles','label']]"
   ]
  },
  {
   "cell_type": "code",
   "execution_count": 4,
   "metadata": {},
   "outputs": [
    {
     "output_type": "execute_result",
     "data": {
      "text/plain": [
       "   0  1467810369  Mon Apr 06 22:19:45 PDT 2009  NO_QUERY _TheSpecialOne_  \\\n",
       "0  0  1467810672  Mon Apr 06 22:19:49 PDT 2009  NO_QUERY   scotthamilton   \n",
       "1  0  1467810917  Mon Apr 06 22:19:53 PDT 2009  NO_QUERY        mattycus   \n",
       "2  0  1467811184  Mon Apr 06 22:19:57 PDT 2009  NO_QUERY         ElleCTF   \n",
       "3  0  1467811193  Mon Apr 06 22:19:57 PDT 2009  NO_QUERY          Karoli   \n",
       "4  0  1467811372  Mon Apr 06 22:20:00 PDT 2009  NO_QUERY        joy_wolf   \n",
       "\n",
       "  @switchfoot http://twitpic.com/2y1zl - Awww, that's a bummer.  You shoulda got David Carr of Third Day to do it. ;D  \n",
       "0  is upset that he can't update his Facebook by ...                                                                   \n",
       "1  @Kenichan I dived many times for the ball. Man...                                                                   \n",
       "2    my whole body feels itchy and like its on fire                                                                    \n",
       "3  @nationwideclass no, it's not behaving at all....                                                                   \n",
       "4                      @Kwesidei not the whole crew                                                                    "
      ],
      "text/html": "<div>\n<style scoped>\n    .dataframe tbody tr th:only-of-type {\n        vertical-align: middle;\n    }\n\n    .dataframe tbody tr th {\n        vertical-align: top;\n    }\n\n    .dataframe thead th {\n        text-align: right;\n    }\n</style>\n<table border=\"1\" class=\"dataframe\">\n  <thead>\n    <tr style=\"text-align: right;\">\n      <th></th>\n      <th>0</th>\n      <th>1467810369</th>\n      <th>Mon Apr 06 22:19:45 PDT 2009</th>\n      <th>NO_QUERY</th>\n      <th>_TheSpecialOne_</th>\n      <th>@switchfoot http://twitpic.com/2y1zl - Awww, that's a bummer.  You shoulda got David Carr of Third Day to do it. ;D</th>\n    </tr>\n  </thead>\n  <tbody>\n    <tr>\n      <th>0</th>\n      <td>0</td>\n      <td>1467810672</td>\n      <td>Mon Apr 06 22:19:49 PDT 2009</td>\n      <td>NO_QUERY</td>\n      <td>scotthamilton</td>\n      <td>is upset that he can't update his Facebook by ...</td>\n    </tr>\n    <tr>\n      <th>1</th>\n      <td>0</td>\n      <td>1467810917</td>\n      <td>Mon Apr 06 22:19:53 PDT 2009</td>\n      <td>NO_QUERY</td>\n      <td>mattycus</td>\n      <td>@Kenichan I dived many times for the ball. Man...</td>\n    </tr>\n    <tr>\n      <th>2</th>\n      <td>0</td>\n      <td>1467811184</td>\n      <td>Mon Apr 06 22:19:57 PDT 2009</td>\n      <td>NO_QUERY</td>\n      <td>ElleCTF</td>\n      <td>my whole body feels itchy and like its on fire</td>\n    </tr>\n    <tr>\n      <th>3</th>\n      <td>0</td>\n      <td>1467811193</td>\n      <td>Mon Apr 06 22:19:57 PDT 2009</td>\n      <td>NO_QUERY</td>\n      <td>Karoli</td>\n      <td>@nationwideclass no, it's not behaving at all....</td>\n    </tr>\n    <tr>\n      <th>4</th>\n      <td>0</td>\n      <td>1467811372</td>\n      <td>Mon Apr 06 22:20:00 PDT 2009</td>\n      <td>NO_QUERY</td>\n      <td>joy_wolf</td>\n      <td>@Kwesidei not the whole crew</td>\n    </tr>\n  </tbody>\n</table>\n</div>"
     },
     "metadata": {},
     "execution_count": 4
    }
   ],
   "source": [
    "df_2=pd.read_csv('twitter.csv',nrows=2000)\n",
    "df_2.head()"
   ]
  },
  {
   "cell_type": "code",
   "execution_count": 5,
   "metadata": {},
   "outputs": [
    {
     "output_type": "execute_result",
     "data": {
      "text/plain": [
       "Index(['0', '1467810369', 'Mon Apr 06 22:19:45 PDT 2009', 'NO_QUERY',\n",
       "       '_TheSpecialOne_',\n",
       "       '@switchfoot http://twitpic.com/2y1zl - Awww, that's a bummer.  You shoulda got David Carr of Third Day to do it. ;D'],\n",
       "      dtype='object')"
      ]
     },
     "metadata": {},
     "execution_count": 5
    }
   ],
   "source": [
    "df_2.columns"
   ]
  },
  {
   "cell_type": "code",
   "execution_count": 6,
   "metadata": {},
   "outputs": [],
   "source": [
    "df_2=df_2.rename(columns={\"@switchfoot http://twitpic.com/2y1zl - Awww, that's a bummer.  You shoulda got David Carr of Third Day to do it. ;D\" : \"titles\"})"
   ]
  },
  {
   "cell_type": "code",
   "execution_count": 7,
   "metadata": {},
   "outputs": [
    {
     "output_type": "execute_result",
     "data": {
      "text/plain": [
       "   0  1467810369  Mon Apr 06 22:19:45 PDT 2009  NO_QUERY _TheSpecialOne_  \\\n",
       "0  0  1467810672  Mon Apr 06 22:19:49 PDT 2009  NO_QUERY   scotthamilton   \n",
       "1  0  1467810917  Mon Apr 06 22:19:53 PDT 2009  NO_QUERY        mattycus   \n",
       "2  0  1467811184  Mon Apr 06 22:19:57 PDT 2009  NO_QUERY         ElleCTF   \n",
       "3  0  1467811193  Mon Apr 06 22:19:57 PDT 2009  NO_QUERY          Karoli   \n",
       "4  0  1467811372  Mon Apr 06 22:20:00 PDT 2009  NO_QUERY        joy_wolf   \n",
       "\n",
       "                                              titles  \n",
       "0  is upset that he can't update his Facebook by ...  \n",
       "1  @Kenichan I dived many times for the ball. Man...  \n",
       "2    my whole body feels itchy and like its on fire   \n",
       "3  @nationwideclass no, it's not behaving at all....  \n",
       "4                      @Kwesidei not the whole crew   "
      ],
      "text/html": "<div>\n<style scoped>\n    .dataframe tbody tr th:only-of-type {\n        vertical-align: middle;\n    }\n\n    .dataframe tbody tr th {\n        vertical-align: top;\n    }\n\n    .dataframe thead th {\n        text-align: right;\n    }\n</style>\n<table border=\"1\" class=\"dataframe\">\n  <thead>\n    <tr style=\"text-align: right;\">\n      <th></th>\n      <th>0</th>\n      <th>1467810369</th>\n      <th>Mon Apr 06 22:19:45 PDT 2009</th>\n      <th>NO_QUERY</th>\n      <th>_TheSpecialOne_</th>\n      <th>titles</th>\n    </tr>\n  </thead>\n  <tbody>\n    <tr>\n      <th>0</th>\n      <td>0</td>\n      <td>1467810672</td>\n      <td>Mon Apr 06 22:19:49 PDT 2009</td>\n      <td>NO_QUERY</td>\n      <td>scotthamilton</td>\n      <td>is upset that he can't update his Facebook by ...</td>\n    </tr>\n    <tr>\n      <th>1</th>\n      <td>0</td>\n      <td>1467810917</td>\n      <td>Mon Apr 06 22:19:53 PDT 2009</td>\n      <td>NO_QUERY</td>\n      <td>mattycus</td>\n      <td>@Kenichan I dived many times for the ball. Man...</td>\n    </tr>\n    <tr>\n      <th>2</th>\n      <td>0</td>\n      <td>1467811184</td>\n      <td>Mon Apr 06 22:19:57 PDT 2009</td>\n      <td>NO_QUERY</td>\n      <td>ElleCTF</td>\n      <td>my whole body feels itchy and like its on fire</td>\n    </tr>\n    <tr>\n      <th>3</th>\n      <td>0</td>\n      <td>1467811193</td>\n      <td>Mon Apr 06 22:19:57 PDT 2009</td>\n      <td>NO_QUERY</td>\n      <td>Karoli</td>\n      <td>@nationwideclass no, it's not behaving at all....</td>\n    </tr>\n    <tr>\n      <th>4</th>\n      <td>0</td>\n      <td>1467811372</td>\n      <td>Mon Apr 06 22:20:00 PDT 2009</td>\n      <td>NO_QUERY</td>\n      <td>joy_wolf</td>\n      <td>@Kwesidei not the whole crew</td>\n    </tr>\n  </tbody>\n</table>\n</div>"
     },
     "metadata": {},
     "execution_count": 7
    }
   ],
   "source": [
    "df_2.head()"
   ]
  },
  {
   "cell_type": "code",
   "execution_count": 8,
   "metadata": {},
   "outputs": [],
   "source": [
    "df_2['label']=[0 for i in range(len(df_2))]"
   ]
  },
  {
   "cell_type": "code",
   "execution_count": 9,
   "metadata": {},
   "outputs": [],
   "source": [
    "df_2=df_2[['titles','label']]"
   ]
  },
  {
   "cell_type": "code",
   "execution_count": 10,
   "metadata": {},
   "outputs": [
    {
     "output_type": "execute_result",
     "data": {
      "text/plain": [
       "                                              titles  label\n",
       "0  is upset that he can't update his Facebook by ...      0\n",
       "1  @Kenichan I dived many times for the ball. Man...      0\n",
       "2    my whole body feels itchy and like its on fire       0\n",
       "3  @nationwideclass no, it's not behaving at all....      0\n",
       "4                      @Kwesidei not the whole crew       0"
      ],
      "text/html": "<div>\n<style scoped>\n    .dataframe tbody tr th:only-of-type {\n        vertical-align: middle;\n    }\n\n    .dataframe tbody tr th {\n        vertical-align: top;\n    }\n\n    .dataframe thead th {\n        text-align: right;\n    }\n</style>\n<table border=\"1\" class=\"dataframe\">\n  <thead>\n    <tr style=\"text-align: right;\">\n      <th></th>\n      <th>titles</th>\n      <th>label</th>\n    </tr>\n  </thead>\n  <tbody>\n    <tr>\n      <th>0</th>\n      <td>is upset that he can't update his Facebook by ...</td>\n      <td>0</td>\n    </tr>\n    <tr>\n      <th>1</th>\n      <td>@Kenichan I dived many times for the ball. Man...</td>\n      <td>0</td>\n    </tr>\n    <tr>\n      <th>2</th>\n      <td>my whole body feels itchy and like its on fire</td>\n      <td>0</td>\n    </tr>\n    <tr>\n      <th>3</th>\n      <td>@nationwideclass no, it's not behaving at all....</td>\n      <td>0</td>\n    </tr>\n    <tr>\n      <th>4</th>\n      <td>@Kwesidei not the whole crew</td>\n      <td>0</td>\n    </tr>\n  </tbody>\n</table>\n</div>"
     },
     "metadata": {},
     "execution_count": 10
    }
   ],
   "source": [
    "df_2.head()"
   ]
  },
  {
   "cell_type": "code",
   "execution_count": 11,
   "metadata": {},
   "outputs": [],
   "source": [
    "import re\n",
    "def clean(text):\n",
    "    if text.startswith('@'):\n",
    "        x=re.sub('@','',text)\n",
    "        return x\n",
    "    elif text.startswith('http'):\n",
    "        pass\n",
    "    else:\n",
    "        return text\n",
    "\n",
    "    "
   ]
  },
  {
   "cell_type": "code",
   "execution_count": 12,
   "metadata": {},
   "outputs": [],
   "source": [
    "df_2['titles']=df_2['titles'].apply(lambda x:clean(x))"
   ]
  },
  {
   "cell_type": "code",
   "execution_count": 13,
   "metadata": {},
   "outputs": [
    {
     "output_type": "execute_result",
     "data": {
      "text/plain": [
       "                                              titles  label\n",
       "0  is upset that he can't update his Facebook by ...      0\n",
       "1  Kenichan I dived many times for the ball. Mana...      0\n",
       "2    my whole body feels itchy and like its on fire       0\n",
       "3  nationwideclass no, it's not behaving at all. ...      0\n",
       "4                       Kwesidei not the whole crew       0"
      ],
      "text/html": "<div>\n<style scoped>\n    .dataframe tbody tr th:only-of-type {\n        vertical-align: middle;\n    }\n\n    .dataframe tbody tr th {\n        vertical-align: top;\n    }\n\n    .dataframe thead th {\n        text-align: right;\n    }\n</style>\n<table border=\"1\" class=\"dataframe\">\n  <thead>\n    <tr style=\"text-align: right;\">\n      <th></th>\n      <th>titles</th>\n      <th>label</th>\n    </tr>\n  </thead>\n  <tbody>\n    <tr>\n      <th>0</th>\n      <td>is upset that he can't update his Facebook by ...</td>\n      <td>0</td>\n    </tr>\n    <tr>\n      <th>1</th>\n      <td>Kenichan I dived many times for the ball. Mana...</td>\n      <td>0</td>\n    </tr>\n    <tr>\n      <th>2</th>\n      <td>my whole body feels itchy and like its on fire</td>\n      <td>0</td>\n    </tr>\n    <tr>\n      <th>3</th>\n      <td>nationwideclass no, it's not behaving at all. ...</td>\n      <td>0</td>\n    </tr>\n    <tr>\n      <th>4</th>\n      <td>Kwesidei not the whole crew</td>\n      <td>0</td>\n    </tr>\n  </tbody>\n</table>\n</div>"
     },
     "metadata": {},
     "execution_count": 13
    }
   ],
   "source": [
    "df_2.head()"
   ]
  },
  {
   "cell_type": "code",
   "execution_count": 14,
   "metadata": {},
   "outputs": [],
   "source": [
    "df_2=pd.DataFrame(df_2)"
   ]
  },
  {
   "cell_type": "code",
   "execution_count": 15,
   "metadata": {},
   "outputs": [],
   "source": [
    "data=pd.concat([df,df_2])"
   ]
  },
  {
   "cell_type": "code",
   "execution_count": 16,
   "metadata": {},
   "outputs": [
    {
     "output_type": "execute_result",
     "data": {
      "text/plain": [
       "                                               titles  label\n",
       "0   Busty British mature wants you to finish and f...      1\n",
       "1   Busty tattooed chick gets a new tattoo on her ...      1\n",
       "2   Tiny Latina teen being taught a lesson while h...      1\n",
       "3                          Girls show ass and asshole      1\n",
       "4   Hot cute beautiful teen with their young faces...      1\n",
       "5   Truck stop whore found herself a new fuck for ...      1\n",
       "6   Mature blonde with big tits sucking and fuckin...      1\n",
       "7   Twenty five Japanese women sucking and fucking...      1\n",
       "8   Unos Jovenes que se inician en el mundo libera...      1\n",
       "9    Many many many sperm in my wonderful compilation      1\n",
       "10  Eighteen-year-old naturally busty teen has her...      1\n",
       "11                     cold pool jump challenge 1080p      1\n",
       "12    PHARAH RIDE 1080P SEX HD ON SITE WWW.NSFWART.ME      1\n",
       "13  Black Angel Fucks A Stranger In A Perverted Gl...      1\n",
       "14  Blackmailed Teens Cheating Fuck Elsa Jean, Mel...      1\n",
       "15  Brother and sis share the bathroom - Family Taboo      1\n",
       "16     Big tit babe Ella Knox used like a cheap whore      1\n",
       "17  Senior Student Fucks Stranger for Ride Creampi...      1\n",
       "18  Stuffed Butts DPs #2 Holly Hendrix, Casey Calv...      1\n",
       "19  Three petite ladies take turns sucking a big c...      1"
      ],
      "text/html": "<div>\n<style scoped>\n    .dataframe tbody tr th:only-of-type {\n        vertical-align: middle;\n    }\n\n    .dataframe tbody tr th {\n        vertical-align: top;\n    }\n\n    .dataframe thead th {\n        text-align: right;\n    }\n</style>\n<table border=\"1\" class=\"dataframe\">\n  <thead>\n    <tr style=\"text-align: right;\">\n      <th></th>\n      <th>titles</th>\n      <th>label</th>\n    </tr>\n  </thead>\n  <tbody>\n    <tr>\n      <th>0</th>\n      <td>Busty British mature wants you to finish and f...</td>\n      <td>1</td>\n    </tr>\n    <tr>\n      <th>1</th>\n      <td>Busty tattooed chick gets a new tattoo on her ...</td>\n      <td>1</td>\n    </tr>\n    <tr>\n      <th>2</th>\n      <td>Tiny Latina teen being taught a lesson while h...</td>\n      <td>1</td>\n    </tr>\n    <tr>\n      <th>3</th>\n      <td>Girls show ass and asshole</td>\n      <td>1</td>\n    </tr>\n    <tr>\n      <th>4</th>\n      <td>Hot cute beautiful teen with their young faces...</td>\n      <td>1</td>\n    </tr>\n    <tr>\n      <th>5</th>\n      <td>Truck stop whore found herself a new fuck for ...</td>\n      <td>1</td>\n    </tr>\n    <tr>\n      <th>6</th>\n      <td>Mature blonde with big tits sucking and fuckin...</td>\n      <td>1</td>\n    </tr>\n    <tr>\n      <th>7</th>\n      <td>Twenty five Japanese women sucking and fucking...</td>\n      <td>1</td>\n    </tr>\n    <tr>\n      <th>8</th>\n      <td>Unos Jovenes que se inician en el mundo libera...</td>\n      <td>1</td>\n    </tr>\n    <tr>\n      <th>9</th>\n      <td>Many many many sperm in my wonderful compilation</td>\n      <td>1</td>\n    </tr>\n    <tr>\n      <th>10</th>\n      <td>Eighteen-year-old naturally busty teen has her...</td>\n      <td>1</td>\n    </tr>\n    <tr>\n      <th>11</th>\n      <td>cold pool jump challenge 1080p</td>\n      <td>1</td>\n    </tr>\n    <tr>\n      <th>12</th>\n      <td>PHARAH RIDE 1080P SEX HD ON SITE WWW.NSFWART.ME</td>\n      <td>1</td>\n    </tr>\n    <tr>\n      <th>13</th>\n      <td>Black Angel Fucks A Stranger In A Perverted Gl...</td>\n      <td>1</td>\n    </tr>\n    <tr>\n      <th>14</th>\n      <td>Blackmailed Teens Cheating Fuck Elsa Jean, Mel...</td>\n      <td>1</td>\n    </tr>\n    <tr>\n      <th>15</th>\n      <td>Brother and sis share the bathroom - Family Taboo</td>\n      <td>1</td>\n    </tr>\n    <tr>\n      <th>16</th>\n      <td>Big tit babe Ella Knox used like a cheap whore</td>\n      <td>1</td>\n    </tr>\n    <tr>\n      <th>17</th>\n      <td>Senior Student Fucks Stranger for Ride Creampi...</td>\n      <td>1</td>\n    </tr>\n    <tr>\n      <th>18</th>\n      <td>Stuffed Butts DPs #2 Holly Hendrix, Casey Calv...</td>\n      <td>1</td>\n    </tr>\n    <tr>\n      <th>19</th>\n      <td>Three petite ladies take turns sucking a big c...</td>\n      <td>1</td>\n    </tr>\n  </tbody>\n</table>\n</div>"
     },
     "metadata": {},
     "execution_count": 16
    }
   ],
   "source": [
    "data.head(20)"
   ]
  },
  {
   "cell_type": "code",
   "execution_count": 17,
   "metadata": {},
   "outputs": [
    {
     "output_type": "execute_result",
     "data": {
      "text/plain": [
       "                                                 titles  label\n",
       "694                      MY TWEETS ARENT GOING THROUGH       0\n",
       "1311  chick corea was tonight...and I missed it  ......      0\n",
       "1689  Horny amateur brunette girlfreind wanted to fu...      1\n",
       "870                                     Essay time....       0\n",
       "1531  real amateur couple mom son homemade sex porn ...      1\n",
       "1835  Waiting for an update about my car. It's in th...      0\n",
       "893                               outdoor standing fuck      1\n",
       "1483  Amateur Wife Anal Creampie Sex Caught Hidden C...      1\n",
       "173         i don't see the big deal with this website       0\n",
       "779   Well, so much for being productive on my 2 day...      0\n",
       "1123                   sarmar I guess I'm out of funny       0\n",
       "1548  HD Porn Video Webcam Amateur Fingering Teen Fl...      1\n",
       "227   yes yes still trying to find a picture that wi...      0\n",
       "1104  HAUSFRAU FICKEN - Raunchy 69 and cum in mouth ...      1\n",
       "1563              Pussy full of sperm. Best cumpilation      1\n",
       "405   Mashumaro is a cleavage of tits Usas chan s er...      1\n",
       "1740  DuncanMacrae hmmm well good luck with that.....        0\n",
       "1588  ok my TWEET PEEP i must head to bed now...Got ...      0\n",
       "1224                         Enlightenment In A Blowjob      1\n",
       "14    Blackmailed Teens Cheating Fuck Elsa Jean, Mel...      1"
      ],
      "text/html": "<div>\n<style scoped>\n    .dataframe tbody tr th:only-of-type {\n        vertical-align: middle;\n    }\n\n    .dataframe tbody tr th {\n        vertical-align: top;\n    }\n\n    .dataframe thead th {\n        text-align: right;\n    }\n</style>\n<table border=\"1\" class=\"dataframe\">\n  <thead>\n    <tr style=\"text-align: right;\">\n      <th></th>\n      <th>titles</th>\n      <th>label</th>\n    </tr>\n  </thead>\n  <tbody>\n    <tr>\n      <th>694</th>\n      <td>MY TWEETS ARENT GOING THROUGH</td>\n      <td>0</td>\n    </tr>\n    <tr>\n      <th>1311</th>\n      <td>chick corea was tonight...and I missed it  ......</td>\n      <td>0</td>\n    </tr>\n    <tr>\n      <th>1689</th>\n      <td>Horny amateur brunette girlfreind wanted to fu...</td>\n      <td>1</td>\n    </tr>\n    <tr>\n      <th>870</th>\n      <td>Essay time....</td>\n      <td>0</td>\n    </tr>\n    <tr>\n      <th>1531</th>\n      <td>real amateur couple mom son homemade sex porn ...</td>\n      <td>1</td>\n    </tr>\n    <tr>\n      <th>1835</th>\n      <td>Waiting for an update about my car. It's in th...</td>\n      <td>0</td>\n    </tr>\n    <tr>\n      <th>893</th>\n      <td>outdoor standing fuck</td>\n      <td>1</td>\n    </tr>\n    <tr>\n      <th>1483</th>\n      <td>Amateur Wife Anal Creampie Sex Caught Hidden C...</td>\n      <td>1</td>\n    </tr>\n    <tr>\n      <th>173</th>\n      <td>i don't see the big deal with this website</td>\n      <td>0</td>\n    </tr>\n    <tr>\n      <th>779</th>\n      <td>Well, so much for being productive on my 2 day...</td>\n      <td>0</td>\n    </tr>\n    <tr>\n      <th>1123</th>\n      <td>sarmar I guess I'm out of funny</td>\n      <td>0</td>\n    </tr>\n    <tr>\n      <th>1548</th>\n      <td>HD Porn Video Webcam Amateur Fingering Teen Fl...</td>\n      <td>1</td>\n    </tr>\n    <tr>\n      <th>227</th>\n      <td>yes yes still trying to find a picture that wi...</td>\n      <td>0</td>\n    </tr>\n    <tr>\n      <th>1104</th>\n      <td>HAUSFRAU FICKEN - Raunchy 69 and cum in mouth ...</td>\n      <td>1</td>\n    </tr>\n    <tr>\n      <th>1563</th>\n      <td>Pussy full of sperm. Best cumpilation</td>\n      <td>1</td>\n    </tr>\n    <tr>\n      <th>405</th>\n      <td>Mashumaro is a cleavage of tits Usas chan s er...</td>\n      <td>1</td>\n    </tr>\n    <tr>\n      <th>1740</th>\n      <td>DuncanMacrae hmmm well good luck with that.....</td>\n      <td>0</td>\n    </tr>\n    <tr>\n      <th>1588</th>\n      <td>ok my TWEET PEEP i must head to bed now...Got ...</td>\n      <td>0</td>\n    </tr>\n    <tr>\n      <th>1224</th>\n      <td>Enlightenment In A Blowjob</td>\n      <td>1</td>\n    </tr>\n    <tr>\n      <th>14</th>\n      <td>Blackmailed Teens Cheating Fuck Elsa Jean, Mel...</td>\n      <td>1</td>\n    </tr>\n  </tbody>\n</table>\n</div>"
     },
     "metadata": {},
     "execution_count": 17
    }
   ],
   "source": [
    "data=data.sample(frac=1)\n",
    "data.head(20)"
   ]
  },
  {
   "cell_type": "code",
   "execution_count": 18,
   "metadata": {},
   "outputs": [],
   "source": [
    "data.to_csv('childp')"
   ]
  },
  {
   "cell_type": "code",
   "execution_count": null,
   "metadata": {},
   "outputs": [],
   "source": []
  }
 ]
}